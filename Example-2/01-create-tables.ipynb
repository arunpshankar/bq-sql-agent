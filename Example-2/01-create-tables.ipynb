{
 "cells": [
  {
   "cell_type": "markdown",
   "metadata": {},
   "source": [
    "## Create Tables"
   ]
  },
  {
   "cell_type": "markdown",
   "metadata": {},
   "source": [
    "#### Imports"
   ]
  },
  {
   "cell_type": "code",
   "execution_count": 1,
   "metadata": {},
   "outputs": [],
   "source": [
    "from google.cloud.exceptions import NotFound\n",
    "from google.cloud import bigquery\n",
    "import pandas as pd\n",
    "import datetime\n",
    "import logging\n",
    "import os "
   ]
  },
  {
   "cell_type": "markdown",
   "metadata": {},
   "source": [
    "#### Setup logging"
   ]
  },
  {
   "cell_type": "code",
   "execution_count": 2,
   "metadata": {},
   "outputs": [],
   "source": [
    "logger = logging.getLogger(__name__)\n",
    "logger.setLevel(logging.DEBUG)\n",
    "logger.addHandler(logging.StreamHandler())"
   ]
  },
  {
   "cell_type": "markdown",
   "metadata": {},
   "source": [
    "#### Essentials"
   ]
  },
  {
   "cell_type": "code",
   "execution_count": 3,
   "metadata": {},
   "outputs": [],
   "source": [
    "SERVICE_ACCOUNT_CREDENTIALS = './../credentials/vai-key.json'\n",
    "os.environ['GOOGLE_APPLICATION_CREDENTIALS'] = SERVICE_ACCOUNT_CREDENTIALS"
   ]
  },
  {
   "cell_type": "code",
   "execution_count": 4,
   "metadata": {},
   "outputs": [],
   "source": [
    "client = bigquery.Client()"
   ]
  },
  {
   "cell_type": "markdown",
   "metadata": {},
   "source": [
    "#### Create dataset"
   ]
  },
  {
   "cell_type": "code",
   "execution_count": 5,
   "metadata": {},
   "outputs": [
    {
     "name": "stderr",
     "output_type": "stream",
     "text": [
      "arun-genai-bb.flight_reservations\n"
     ]
    }
   ],
   "source": [
    "dataset_id = f\"{client.project}.flight_reservations\"\n",
    "logger.info(dataset_id)"
   ]
  },
  {
   "cell_type": "code",
   "execution_count": 6,
   "metadata": {},
   "outputs": [
    {
     "name": "stderr",
     "output_type": "stream",
     "text": [
      "Dataset arun-genai-bb.flight_reservations already exists!\n"
     ]
    }
   ],
   "source": [
    "try:\n",
    "    dataset = client.get_dataset(dataset_id)\n",
    "    logger.info(f\"Dataset {dataset_id} already exists!\")\n",
    "except NotFound:\n",
    "    dataset = bigquery.Dataset(dataset_id)\n",
    "    dataset.location = \"US\"\n",
    "    dataset = client.create_dataset(dataset)\n",
    "    logger.info(f\"Dataset {dataset_id} created.\")"
   ]
  },
  {
   "cell_type": "markdown",
   "metadata": {},
   "source": [
    "#### Create tables "
   ]
  },
  {
   "cell_type": "markdown",
   "metadata": {},
   "source": [
    "##### Create `customers` table"
   ]
  },
  {
   "cell_type": "code",
   "execution_count": 7,
   "metadata": {},
   "outputs": [
    {
     "name": "stderr",
     "output_type": "stream",
     "text": [
      "arun-genai-bb.flight_reservations.customers\n"
     ]
    }
   ],
   "source": [
    "table_id = f\"{dataset_id}.customers\"\n",
    "logger.info(table_id)"
   ]
  },
  {
   "cell_type": "code",
   "execution_count": 8,
   "metadata": {},
   "outputs": [],
   "source": [
    "customers_schema = [\n",
    "    bigquery.SchemaField(\"customer_id\", \"INT64\", mode=\"REQUIRED\"),\n",
    "    bigquery.SchemaField(\"first_name\", \"STRING\", mode=\"REQUIRED\"),\n",
    "    bigquery.SchemaField(\"last_name\", \"STRING\", mode=\"REQUIRED\"),\n",
    "    bigquery.SchemaField(\"email\", \"STRING\", mode=\"REQUIRED\"),\n",
    "    bigquery.SchemaField(\"date_of_birth\", \"DATE\", mode=\"REQUIRED\"),\n",
    "    bigquery.SchemaField(\"created_at\", \"DATETIME\", mode=\"REQUIRED\"),\n",
    "]\n"
   ]
  },
  {
   "cell_type": "code",
   "execution_count": 9,
   "metadata": {},
   "outputs": [
    {
     "name": "stderr",
     "output_type": "stream",
     "text": [
      "Table arun-genai-bb.flight_reservations.customers already exists!\n"
     ]
    }
   ],
   "source": [
    "try:\n",
    "    customers_table = client.get_table(table_id)\n",
    "    logger.info(f\"Table {table_id} already exists!\")\n",
    "except NotFound:\n",
    "    customers_table = bigquery.Table(table_id, schema=customers_schema)\n",
    "    customers_table = client.create_table(customers_table)  \n",
    "    logger.info(f\"Table {table_id} created.\")"
   ]
  },
  {
   "cell_type": "markdown",
   "metadata": {},
   "source": [
    "##### Create `flights` table"
   ]
  },
  {
   "cell_type": "code",
   "execution_count": 10,
   "metadata": {},
   "outputs": [
    {
     "name": "stderr",
     "output_type": "stream",
     "text": [
      "arun-genai-bb.flight_reservations.flights\n"
     ]
    }
   ],
   "source": [
    "table_id = f\"{dataset_id}.flights\"\n",
    "logger.info(table_id)"
   ]
  },
  {
   "cell_type": "code",
   "execution_count": 11,
   "metadata": {},
   "outputs": [],
   "source": [
    "flights_schema = [\n",
    "    bigquery.SchemaField(\"flight_id\", \"INT64\", mode=\"REQUIRED\"),\n",
    "    bigquery.SchemaField(\"origin\", \"STRING\", mode=\"REQUIRED\"),\n",
    "    bigquery.SchemaField(\"destination\", \"STRING\", mode=\"REQUIRED\"),\n",
    "    bigquery.SchemaField(\"departure_datetime\", \"DATETIME\", mode=\"REQUIRED\"),\n",
    "    bigquery.SchemaField(\"arrival_datetime\", \"DATETIME\", mode=\"REQUIRED\"),\n",
    "    bigquery.SchemaField(\"carrier\", \"STRING\", mode=\"REQUIRED\"),\n",
    "    bigquery.SchemaField(\"price\", \"FLOAT64\", mode=\"REQUIRED\"),\n",
    "]"
   ]
  },
  {
   "cell_type": "code",
   "execution_count": 12,
   "metadata": {},
   "outputs": [
    {
     "name": "stderr",
     "output_type": "stream",
     "text": [
      "Table arun-genai-bb.flight_reservations.flights already exists!\n"
     ]
    }
   ],
   "source": [
    "try:\n",
    "    flights_table = client.get_table(table_id)\n",
    "    logger.info(f\"Table {table_id} already exists!\")\n",
    "except NotFound:\n",
    "    flights_table = bigquery.Table(table_id, schema=flights_schema)\n",
    "    flights_table = client.create_table(flights_table)  \n",
    "    logger.info(f\"Table {table_id} created.\")"
   ]
  },
  {
   "cell_type": "markdown",
   "metadata": {},
   "source": [
    "##### Create `reservations` table"
   ]
  },
  {
   "cell_type": "code",
   "execution_count": 13,
   "metadata": {},
   "outputs": [
    {
     "name": "stderr",
     "output_type": "stream",
     "text": [
      "arun-genai-bb.flight_reservations.reservations\n"
     ]
    }
   ],
   "source": [
    "table_id = f\"{dataset_id}.reservations\"\n",
    "logger.info(table_id)"
   ]
  },
  {
   "cell_type": "code",
   "execution_count": 14,
   "metadata": {},
   "outputs": [],
   "source": [
    "reservations_schema = [\n",
    "    bigquery.SchemaField(\"reservation_id\", \"INT64\", mode=\"REQUIRED\"),\n",
    "    bigquery.SchemaField(\"customer_id\", \"INT64\", mode=\"REQUIRED\"),\n",
    "    bigquery.SchemaField(\"flight_id\", \"INT64\", mode=\"REQUIRED\"),\n",
    "    bigquery.SchemaField(\"reservation_datetime\", \"DATETIME\", mode=\"REQUIRED\"),\n",
    "    bigquery.SchemaField(\"status\", \"STRING\", mode=\"REQUIRED\"),\n",
    "]"
   ]
  },
  {
   "cell_type": "code",
   "execution_count": 15,
   "metadata": {},
   "outputs": [
    {
     "name": "stderr",
     "output_type": "stream",
     "text": [
      "Table arun-genai-bb.flight_reservations.reservations already exists!\n"
     ]
    }
   ],
   "source": [
    "try:\n",
    "    reservations_table = client.get_table(table_id)\n",
    "    logger.info(f\"Table {table_id} already exists!\")\n",
    "except NotFound:\n",
    "    reservations_table = bigquery.Table(table_id, schema=reservations_schema)\n",
    "    reservations_table = client.create_table(reservations_table)  \n",
    "    logger.info(f\"Table {table_id} created.\")"
   ]
  },
  {
   "cell_type": "markdown",
   "metadata": {},
   "source": [
    "##### Create `transactions` table"
   ]
  },
  {
   "cell_type": "code",
   "execution_count": 16,
   "metadata": {},
   "outputs": [
    {
     "name": "stderr",
     "output_type": "stream",
     "text": [
      "arun-genai-bb.flight_reservations.transactions\n"
     ]
    }
   ],
   "source": [
    "table_id = f\"{dataset_id}.transactions\"\n",
    "logger.info(table_id)"
   ]
  },
  {
   "cell_type": "code",
   "execution_count": 17,
   "metadata": {},
   "outputs": [],
   "source": [
    "transactions_schema = [\n",
    "    bigquery.SchemaField(\"transaction_id\", \"INT64\", mode=\"REQUIRED\"),\n",
    "    bigquery.SchemaField(\"reservation_id\", \"INT64\", mode=\"REQUIRED\"),\n",
    "    bigquery.SchemaField(\"amount\", \"FLOAT64\", mode=\"REQUIRED\"),\n",
    "    bigquery.SchemaField(\"transaction_datetime\", \"DATETIME\", mode=\"REQUIRED\"),\n",
    "]"
   ]
  },
  {
   "cell_type": "code",
   "execution_count": 18,
   "metadata": {},
   "outputs": [
    {
     "name": "stderr",
     "output_type": "stream",
     "text": [
      "Table arun-genai-bb.flight_reservations.transactions already exists!\n"
     ]
    }
   ],
   "source": [
    "try:\n",
    "    transactions_table = client.get_table(table_id)\n",
    "    logger.info(f\"Table {table_id} already exists!\")\n",
    "except NotFound:\n",
    "    transactions_table = bigquery.Table(table_id, schema=transactions_schema)\n",
    "    transactions_table = client.create_table(transactions_table)  \n",
    "    logger.info(f\"Table {table_id} created.\")"
   ]
  },
  {
   "cell_type": "markdown",
   "metadata": {},
   "source": [
    "##### Create `loyality_points` table "
   ]
  },
  {
   "cell_type": "code",
   "execution_count": 19,
   "metadata": {},
   "outputs": [
    {
     "name": "stderr",
     "output_type": "stream",
     "text": [
      "arun-genai-bb.flight_reservations.loyality_points\n"
     ]
    }
   ],
   "source": [
    "table_id = f\"{dataset_id}.loyality_points\"\n",
    "logger.info(table_id)"
   ]
  },
  {
   "cell_type": "code",
   "execution_count": 20,
   "metadata": {},
   "outputs": [],
   "source": [
    "loyalty_points_schema = [\n",
    "    bigquery.SchemaField(\"customer_id\", \"INT64\", mode=\"REQUIRED\"),\n",
    "    bigquery.SchemaField(\"points\", \"INT64\", mode=\"REQUIRED\"),\n",
    "    bigquery.SchemaField(\"last_updated_datetime\", \"DATETIME\", mode=\"REQUIRED\"),\n",
    "]"
   ]
  },
  {
   "cell_type": "code",
   "execution_count": 21,
   "metadata": {},
   "outputs": [
    {
     "name": "stderr",
     "output_type": "stream",
     "text": [
      "Table arun-genai-bb.flight_reservations.loyality_points already exists!\n"
     ]
    }
   ],
   "source": [
    "try:\n",
    "    loyality_points_table = client.get_table(table_id)\n",
    "    logger.info(f\"Table {table_id} already exists!\")\n",
    "except NotFound:\n",
    "    loyality_points_table = bigquery.Table(table_id, schema=loyalty_points_schema)\n",
    "    loyality_points_table = client.create_table(loyality_points_table)  \n",
    "    logger.info(f\"Table {table_id} created.\")"
   ]
  },
  {
   "cell_type": "markdown",
   "metadata": {},
   "source": [
    "#### Populate tables"
   ]
  },
  {
   "cell_type": "code",
   "execution_count": null,
   "metadata": {},
   "outputs": [],
   "source": [
    "df = pd.read_csv('./../DATA/Example-2/customers.csv')\n",
    "df.head()"
   ]
  },
  {
   "cell_type": "code",
   "execution_count": null,
   "metadata": {},
   "outputs": [],
   "source": [
    "data = [tuple(row) for row in df.to_numpy()]\n",
    "client.insert_rows(customers_table, data)"
   ]
  },
  {
   "cell_type": "code",
   "execution_count": null,
   "metadata": {},
   "outputs": [],
   "source": [
    "df = pd.read_csv('./../DATA/Example-2/flights.csv')\n",
    "df.head()"
   ]
  },
  {
   "cell_type": "code",
   "execution_count": null,
   "metadata": {},
   "outputs": [],
   "source": [
    "data = [tuple(row) for row in df.to_numpy()]\n",
    "client.insert_rows(flights_table, data)"
   ]
  },
  {
   "cell_type": "code",
   "execution_count": null,
   "metadata": {},
   "outputs": [],
   "source": [
    "df = pd.read_csv('./../DATA/Example-2/reservations.csv')\n",
    "df.head()"
   ]
  },
  {
   "cell_type": "code",
   "execution_count": null,
   "metadata": {},
   "outputs": [],
   "source": [
    "data = [tuple(row) for row in df.to_numpy()]\n",
    "client.insert_rows(reservations_table, data)"
   ]
  },
  {
   "cell_type": "code",
   "execution_count": null,
   "metadata": {},
   "outputs": [],
   "source": [
    "df = pd.read_csv('./../DATA/Example-2/transactions.csv')\n",
    "df.head()"
   ]
  },
  {
   "cell_type": "code",
   "execution_count": null,
   "metadata": {},
   "outputs": [],
   "source": [
    "data = [tuple(row) for row in df.to_numpy()]\n",
    "client.insert_rows(transactions_table, data)"
   ]
  },
  {
   "cell_type": "code",
   "execution_count": null,
   "metadata": {},
   "outputs": [],
   "source": [
    "df = pd.read_csv('./../DATA/Example-2/loyality_points.csv')\n",
    "df.head()"
   ]
  },
  {
   "cell_type": "code",
   "execution_count": null,
   "metadata": {},
   "outputs": [],
   "source": [
    "data = [tuple(row) for row in df.to_numpy()]\n",
    "client.insert_rows(loyality_points_table, data)"
   ]
  },
  {
   "cell_type": "markdown",
   "metadata": {},
   "source": [
    "**Note:** Populating tables in BigQuery can take time, typically ranging between 1 to 2 hours.\n",
    "\n",
    "To check if the tables are fully populated, run the cell provided below.\n",
    "\n",
    "If the result indicates a non-zero number of rows, this means the tables are populated.\n",
    "\n",
    "Once verified, execute the next notebook titled `02-text-to-sql.ipynb`."
   ]
  },
  {
   "cell_type": "code",
   "execution_count": 22,
   "metadata": {},
   "outputs": [
    {
     "name": "stderr",
     "output_type": "stream",
     "text": [
      "20\n",
      "20\n",
      "20\n",
      "16\n",
      "20\n"
     ]
    }
   ],
   "source": [
    "logger.info(customers_table.num_rows)\n",
    "logger.info(flights_table.num_rows)\n",
    "logger.info(reservations_table.num_rows)\n",
    "logger.info(transactions_table.num_rows)\n",
    "logger.info(loyality_points_table.num_rows)"
   ]
  },
  {
   "cell_type": "code",
   "execution_count": null,
   "metadata": {},
   "outputs": [],
   "source": []
  }
 ],
 "metadata": {
  "kernelspec": {
   "display_name": ".bq-sql-agent",
   "language": "python",
   "name": "python3"
  },
  "language_info": {
   "codemirror_mode": {
    "name": "ipython",
    "version": 3
   },
   "file_extension": ".py",
   "mimetype": "text/x-python",
   "name": "python",
   "nbconvert_exporter": "python",
   "pygments_lexer": "ipython3",
   "version": "3.9.6"
  },
  "orig_nbformat": 4
 },
 "nbformat": 4,
 "nbformat_minor": 2
}
