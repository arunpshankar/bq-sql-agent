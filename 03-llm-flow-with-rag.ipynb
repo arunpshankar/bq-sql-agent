{
 "cells": [
  {
   "cell_type": "code",
   "execution_count": 1,
   "metadata": {},
   "outputs": [],
   "source": [
    "from langchain.prompts.chat import SystemMessagePromptTemplate\n",
    "from langchain.prompts.chat import HumanMessagePromptTemplate\n",
    "from langchain.prompts.chat import ChatPromptTemplate\n",
    "from langchain.embeddings import VertexAIEmbeddings\n",
    "from langchain.document_loaders import JSONLoader\n",
    "from langchain.embeddings.base import Embeddings\n",
    "from langchain.chat_models import ChatVertexAI\n",
    "from langchain.vectorstores import FAISS\n",
    "from google.cloud import bigquery\n",
    "from typing import List\n",
    "from tqdm import tqdm\n",
    "import logging\n",
    "import json\n",
    "import os "
   ]
  },
  {
   "cell_type": "code",
   "execution_count": 2,
   "metadata": {},
   "outputs": [],
   "source": [
    "logger = logging.getLogger('langchain')\n",
    "logger.setLevel(logging.INFO)\n",
    "logger.addHandler(logging.StreamHandler())"
   ]
  },
  {
   "cell_type": "code",
   "execution_count": 3,
   "metadata": {},
   "outputs": [],
   "source": [
    "SERVICE_ACCOUNT_KEY_PATH = './credentials/vai-key.json'\n",
    "os.environ['GOOGLE_APPLICATION_CREDENTIALS'] = SERVICE_ACCOUNT_KEY_PATH"
   ]
  },
  {
   "cell_type": "code",
   "execution_count": 4,
   "metadata": {},
   "outputs": [],
   "source": [
    "PROJECT = 'arun-genai-bb'\n",
    "LOCATION = 'us-central1'\n",
    "MODEL_NAME = 'chat-bison'"
   ]
  },
  {
   "cell_type": "code",
   "execution_count": 5,
   "metadata": {},
   "outputs": [],
   "source": [
    "llm = ChatVertexAI(project=PROJECT, \n",
    "                   location=LOCATION, \n",
    "                   model_name=MODEL_NAME,\n",
    "                   temperature=0.0, \n",
    "                   max_output_tokens=512)"
   ]
  },
  {
   "cell_type": "code",
   "execution_count": 6,
   "metadata": {},
   "outputs": [],
   "source": [
    "class MyVertexAIEmbeddings(VertexAIEmbeddings, Embeddings):\n",
    "    model_name = 'textembedding-gecko'\n",
    "    max_batch_size = 5\n",
    "    \n",
    "    def embed_segments(self, segments: List) -> List:\n",
    "        embeddings = []\n",
    "        for i in tqdm(range(0, len(segments), self.max_batch_size)):\n",
    "            batch = segments[i: i+self.max_batch_size]\n",
    "            embeddings.extend(self.client.get_embeddings(batch))\n",
    "        return [embedding.values for embedding in embeddings]\n",
    "    \n",
    "    def embed_query(self, query: str) -> List:\n",
    "        embeddings = self.client.get_embeddings([query])\n",
    "        return embeddings[0].values"
   ]
  },
  {
   "cell_type": "code",
   "execution_count": 7,
   "metadata": {},
   "outputs": [],
   "source": [
    "embedding = MyVertexAIEmbeddings()"
   ]
  },
  {
   "cell_type": "code",
   "execution_count": 8,
   "metadata": {},
   "outputs": [],
   "source": [
    "documents = JSONLoader(file_path='./DATA/RAG/tables.jsonl', jq_schema='.', text_content=False, json_lines=True).load()"
   ]
  },
  {
   "cell_type": "code",
   "execution_count": 9,
   "metadata": {},
   "outputs": [],
   "source": [
    "\n",
    "db = FAISS.from_documents(documents=documents, embedding=embedding)"
   ]
  },
  {
   "cell_type": "code",
   "execution_count": 10,
   "metadata": {},
   "outputs": [],
   "source": [
    "retriever = db.as_retriever(search_type='mmr', search_kwargs={'k': 5, 'lambda_mult': 1})"
   ]
  },
  {
   "cell_type": "code",
   "execution_count": 11,
   "metadata": {},
   "outputs": [],
   "source": [
    "query = \"make a room reservation for 3 nights Miami\"\n",
    "matched_docs = retriever.get_relevant_documents(query=query)\n"
   ]
  },
  {
   "cell_type": "code",
   "execution_count": 12,
   "metadata": {},
   "outputs": [
    {
     "name": "stderr",
     "output_type": "stream",
     "text": [
      "Matched tables = ['reservations', 'check_ins_outs', 'rooms', 'inventory', 'payments']\n"
     ]
    }
   ],
   "source": [
    "matched_tables = []\n",
    "\n",
    "for doc in matched_docs:\n",
    "    page_content = doc.page_content\n",
    "    page_content = json.loads(page_content)\n",
    "    table_name = page_content['table_name']\n",
    "    matched_tables.append(table_name)\n",
    "\n",
    "logger.info(f'Matched tables = {matched_tables}')\n",
    "    "
   ]
  },
  {
   "cell_type": "markdown",
   "metadata": {},
   "source": [
    "#### Columns "
   ]
  },
  {
   "cell_type": "code",
   "execution_count": 13,
   "metadata": {},
   "outputs": [],
   "source": [
    "documents = JSONLoader(file_path='./DATA/RAG/columns.jsonl', jq_schema='.', text_content=False, json_lines=True).load()\n",
    "db = FAISS.from_documents(documents=documents, embedding=embedding)"
   ]
  },
  {
   "cell_type": "code",
   "execution_count": 14,
   "metadata": {},
   "outputs": [
    {
     "data": {
      "text/plain": [
       "Document(page_content='{\"dataset_name\": \"hotel_reservations\", \"table_name\": \"hotels\", \"column_name\": \"hotel_id\", \"description\": \"A unique identifier assigned to each hotel.\", \"usage\": \"This ID helps in maintaining a distinct record for each hotel and acts as a primary key. It\\'s also used for referencing in other tables like Rooms.\", \"data_type\": \"INT64\"}', metadata={'source': '/Users/arunpshankar/Desktop/Projects/bq-sql-agent/DATA/RAG/columns.jsonl', 'seq_num': 1})"
      ]
     },
     "execution_count": 14,
     "metadata": {},
     "output_type": "execute_result"
    }
   ],
   "source": [
    "documents[0]"
   ]
  },
  {
   "cell_type": "code",
   "execution_count": 15,
   "metadata": {},
   "outputs": [],
   "source": [
    "# hard coding this - ideally this should be all table names matched based on vector search pass 1\n",
    "# simplified for the sake of PoC and brevity\n",
    "filter = ['hotels', 'reservations', 'rooms']\n",
    "\n",
    "search_kwargs = {\n",
    "    'k': 20,  # TODO derive the optimal value for k automatically \n",
    "}\n",
    "\n",
    "retriever = db.as_retriever(search_type='similarity', search_kwargs=search_kwargs)"
   ]
  },
  {
   "cell_type": "code",
   "execution_count": 16,
   "metadata": {},
   "outputs": [],
   "source": [
    "matched_docs = retriever.get_relevant_documents(query=query)\n",
    "filtered_matched_docs = []\n",
    "for i, doc in enumerate(matched_docs):\n",
    "    page_content = json.loads(doc.page_content)\n",
    "    table_name = page_content['table_name']\n",
    "    if table_name in filter:\n",
    "        filtered_matched_docs.append(page_content)\n"
   ]
  },
  {
   "cell_type": "code",
   "execution_count": 17,
   "metadata": {},
   "outputs": [],
   "source": [
    "filtered_matched_docs\n",
    "\n",
    "final = []\n",
    "for doc in filtered_matched_docs:\n",
    "    dataset_name = doc['dataset_name']\n",
    "    table_name = doc['table_name']\n",
    "    column_name = doc['column_name']\n",
    "    data_type = doc['data_type']\n",
    "    final.append(f'dataset_name={dataset_name}|table_name={table_name}|column_name={column_name}|data_type={data_type}')\n",
    "final = '\\n'.join(final)"
   ]
  },
  {
   "cell_type": "code",
   "execution_count": 18,
   "metadata": {},
   "outputs": [],
   "source": [
    "messages = []"
   ]
  },
  {
   "cell_type": "code",
   "execution_count": 19,
   "metadata": {},
   "outputs": [],
   "source": [
    "template = \"You are a SQL master expert capable of writing complex SQL query in BigQuery.\"\n",
    "system_message_prompt = SystemMessagePromptTemplate.from_template(template)\n",
    "messages.append(system_message_prompt)"
   ]
  },
  {
   "cell_type": "code",
   "execution_count": 20,
   "metadata": {},
   "outputs": [],
   "source": [
    "human_template = \"\"\"Given the following inputs:\n",
    "USER_QUERY:\n",
    "--\n",
    "{query}\n",
    "--\n",
    "MATCHED_SCHEMA: \n",
    "--\n",
    "{matched_schema}\n",
    "--\n",
    "Please construct a SQL query using the MATCHED_SCHEMA and the USER_QUERY provided above. \n",
    "The goal is to determine the availability of hotels based on the provided info. \n",
    "\n",
    "IMPORTANT: Use ONLY the column names (column_name) mentioned in MATCHED_SCHEMA. DO NOT USE any other column names outside of this. \n",
    "IMPORTANT: Associate column_name mentioned in MATCHED_SCHEMA only to the table_name specified under MATCHED_SCHEMA.\n",
    "NOTE: Use SQL 'AS' statement to assign a new name temporarily to a table column or even a table wherever needed. \n",
    "\"\"\""
   ]
  },
  {
   "cell_type": "code",
   "execution_count": 21,
   "metadata": {},
   "outputs": [],
   "source": [
    "human_message = HumanMessagePromptTemplate.from_template(human_template)\n",
    "messages.append(human_message)"
   ]
  },
  {
   "cell_type": "code",
   "execution_count": 22,
   "metadata": {},
   "outputs": [],
   "source": [
    "chat_prompt = ChatPromptTemplate.from_messages(messages)"
   ]
  },
  {
   "cell_type": "code",
   "execution_count": 23,
   "metadata": {},
   "outputs": [],
   "source": [
    "request = chat_prompt.format_prompt(query=query,\n",
    "                                    matched_schema=final).to_messages()"
   ]
  },
  {
   "cell_type": "code",
   "execution_count": 24,
   "metadata": {},
   "outputs": [
    {
     "name": "stderr",
     "output_type": "stream",
     "text": [
      "[SystemMessage(content='You are a SQL master expert capable of writing complex SQL query in BigQuery.', additional_kwargs={}), HumanMessage(content=\"Given the following inputs:\\nUSER_QUERY:\\n--\\nmake a room reservation for 3 nights Miami\\n--\\nMATCHED_SCHEMA: \\n--\\ndataset_name=hotel_reservations|table_name=reservations|column_name=start_date|data_type=DATE\\ndataset_name=hotel_reservations|table_name=rooms|column_name=hotel_id|data_type=INT64\\ndataset_name=hotel_reservations|table_name=rooms|column_name=room_id|data_type=INT64\\ndataset_name=hotel_reservations|table_name=reservations|column_name=room_id|data_type=INT64\\ndataset_name=hotel_reservations|table_name=rooms|column_name=availability|data_type=INT64\\ndataset_name=hotel_reservations|table_name=rooms|column_name=room_type|data_type=STRING\\ndataset_name=hotel_reservations|table_name=reservations|column_name=end_date|data_type=DATE\\ndataset_name=hotel_reservations|table_name=reservations|column_name=reservation_id|data_type=INT64\\ndataset_name=hotel_reservations|table_name=hotels|column_name=hotel_id|data_type=INT64\\ndataset_name=hotel_reservations|table_name=rooms|column_name=price_per_night|data_type=FLOAT64\\ndataset_name=hotel_reservations|table_name=reservations|column_name=user_id|data_type=INT64\\ndataset_name=hotel_reservations|table_name=hotels|column_name=location|data_type=STRING\\n--\\nPlease construct a SQL query using the MATCHED_SCHEMA and the USER_QUERY provided above. \\nThe goal is to determine the availability of hotels based on the provided info. \\n\\nIMPORTANT: Use ONLY the column names (column_name) mentioned in MATCHED_SCHEMA. DO NOT USE any other column names outside of this. \\nIMPORTANT: Associate column_name mentioned in MATCHED_SCHEMA only to the table_name specified under MATCHED_SCHEMA.\\nNOTE: Use SQL 'AS' statement to assign a new name temporarily to a table column or even a table wherever needed. \\n\", additional_kwargs={}, example=False)]\n"
     ]
    }
   ],
   "source": [
    "logger.info(request)"
   ]
  },
  {
   "cell_type": "code",
   "execution_count": 25,
   "metadata": {},
   "outputs": [
    {
     "name": "stdout",
     "output_type": "stream",
     "text": [
      "CPU times: user 41.4 ms, sys: 6.64 ms, total: 48.1 ms\n",
      "Wall time: 4.89 s\n"
     ]
    }
   ],
   "source": [
    "%%time \n",
    "\n",
    "response = llm(request)"
   ]
  },
  {
   "cell_type": "code",
   "execution_count": 26,
   "metadata": {},
   "outputs": [
    {
     "name": "stderr",
     "output_type": "stream",
     "text": [
      "SELECT \n",
      "  r.hotel_id, \n",
      "  r.room_id, \n",
      "  r.room_type, \n",
      "  r.price_per_night, \n",
      "  h.location\n",
      "FROM hotel_reservations.rooms AS r\n",
      "JOIN hotel_reservations.hotels AS h\n",
      "ON r.hotel_id = h.hotel_id\n",
      "WHERE h.location = 'Miami'\n",
      "AND r.availability >= 3\n",
      "AND NOT EXISTS (\n",
      "  SELECT * \n",
      "  FROM hotel_reservations.reservations AS res \n",
      "  WHERE res.room_id = r.room_id \n",
      "  AND (\n",
      "    (res.start_date BETWEEN DATE_ADD(CURRENT_DATE(), INTERVAL -3 DAY) AND DATE_ADD(CURRENT_DATE(), INTERVAL 3 DAY))\n",
      "    OR (res.end_date BETWEEN DATE_ADD(CURRENT_DATE(), INTERVAL -3 DAY) AND DATE_ADD(CURRENT_DATE(), INTERVAL 3 DAY))\n",
      "    OR (DATE_ADD(CURRENT_DATE(), INTERVAL -3 DAY) BETWEEN res.start_date AND res.end_date)\n",
      "    OR (DATE_ADD(CURRENT_DATE(), INTERVAL 3 DAY) BETWEEN res.start_date AND res.end_date)\n",
      "  )\n",
      ")\n"
     ]
    }
   ],
   "source": [
    "sql = '\\n'.join(response.content.strip().split('\\n')[1:-1])\n",
    "logger.info(sql)"
   ]
  },
  {
   "cell_type": "code",
   "execution_count": 27,
   "metadata": {},
   "outputs": [],
   "source": [
    "bq = bigquery.Client()\n"
   ]
  },
  {
   "cell_type": "code",
   "execution_count": 28,
   "metadata": {},
   "outputs": [
    {
     "name": "stderr",
     "output_type": "stream",
     "text": [
      "   hotel_id  room_id room_type  price_per_night location\n",
      "0         2        3    Deluxe            180.0    Miami\n",
      "1         2        4     Suite            280.0    Miami\n"
     ]
    }
   ],
   "source": [
    "query_job = bq.query(sql)\n",
    "logger.info(query_job.to_dataframe())"
   ]
  },
  {
   "cell_type": "code",
   "execution_count": 29,
   "metadata": {},
   "outputs": [
    {
     "name": "stderr",
     "output_type": "stream",
     "text": [
      "Room type = Deluxe\n",
      "Price per night in $ = 180.0\n",
      "\n",
      "Room type = Suite\n",
      "Price per night in $ = 280.0\n"
     ]
    }
   ],
   "source": [
    "sql_result = []\n",
    "\n",
    "for row in query_job:\n",
    "    sql_result.append(f\"Room type = {row.room_type}\")\n",
    "    sql_result.append(f\"Price per night in $ = {row.price_per_night}\")\n",
    "    sql_result.append(\"\")\n",
    "\n",
    "sql_result = \"\\n\".join(sql_result).strip()\n",
    "logger.info(sql_result)"
   ]
  }
 ],
 "metadata": {
  "kernelspec": {
   "display_name": ".bq_sql_agent",
   "language": "python",
   "name": "python3"
  },
  "language_info": {
   "codemirror_mode": {
    "name": "ipython",
    "version": 3
   },
   "file_extension": ".py",
   "mimetype": "text/x-python",
   "name": "python",
   "nbconvert_exporter": "python",
   "pygments_lexer": "ipython3",
   "version": "3.9.6"
  },
  "orig_nbformat": 4
 },
 "nbformat": 4,
 "nbformat_minor": 2
}
