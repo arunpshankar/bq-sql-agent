{
 "cells": [
  {
   "cell_type": "markdown",
   "id": "2a59b2aa-b879-4753-9505-e7e36a9e829b",
   "metadata": {},
   "source": [
    "## LLM Flow"
   ]
  },
  {
   "cell_type": "markdown",
   "id": "cdc0e4b0-8d1e-45a0-b73f-c45854fb91c8",
   "metadata": {},
   "source": [
    "#### Imports "
   ]
  },
  {
   "cell_type": "code",
   "execution_count": 1,
   "id": "926b288e-44b7-4217-a92b-579bb050f7a3",
   "metadata": {},
   "outputs": [],
   "source": [
    "from langchain.prompts.chat import SystemMessagePromptTemplate\n",
    "from langchain.prompts.chat import HumanMessagePromptTemplate\n",
    "from langchain.prompts.chat import AIMessagePromptTemplate\n",
    "from langchain.prompts.chat import ChatPromptTemplate\n",
    "from langchain.chat_models import ChatVertexAI\n",
    "from langchain.schema import SystemMessage\n",
    "from langchain.schema import HumanMessage\n",
    "from google.cloud import aiplatform\n",
    "from google.cloud import bigquery\n",
    "import pandas as pd\n",
    "import langchain\n",
    "import datetime\n",
    "import logging\n",
    "import google"
   ]
  },
  {
   "cell_type": "markdown",
   "id": "6dfa361e-1e53-4a8d-a724-60b5a1b91c0b",
   "metadata": {},
   "source": [
    "##### Setup logging"
   ]
  },
  {
   "cell_type": "code",
   "execution_count": 2,
   "id": "695b22a4-b0be-4c32-9221-4b3c048ff0a4",
   "metadata": {},
   "outputs": [],
   "source": [
    "logger = logging.getLogger(__name__)\n",
    "logger.setLevel(logging.INFO)\n",
    "logger.addHandler(logging.StreamHandler())"
   ]
  },
  {
   "cell_type": "markdown",
   "id": "ab59b237-cd91-4724-ba21-43062d682164",
   "metadata": {},
   "source": [
    "#### Essentials "
   ]
  },
  {
   "cell_type": "code",
   "execution_count": 5,
   "id": "38589da0-d8e0-4ae2-b787-ef6ccd87a9b8",
   "metadata": {},
   "outputs": [],
   "source": [
    "PROJECT = 'arun-genai-bb'\n",
    "LOCATION = 'us-central1'\n",
    "MODEL_NAME = 'chat-bison'"
   ]
  },
  {
   "cell_type": "code",
   "execution_count": 6,
   "id": "d7079800-0e0b-4692-9fb9-d56f31aaffae",
   "metadata": {},
   "outputs": [],
   "source": [
    "bq = bigquery.Client()"
   ]
  },
  {
   "cell_type": "code",
   "execution_count": 7,
   "id": "d04c7f3e-14d2-423e-8559-9edc0d457a3a",
   "metadata": {},
   "outputs": [],
   "source": [
    "llm = ChatVertexAI(project=PROJECT, \n",
    "                   location=LOCATION, \n",
    "                   model_name=MODEL_NAME,\n",
    "                   temperature=0.0, \n",
    "                   max_output_tokens=256)"
   ]
  },
  {
   "cell_type": "markdown",
   "id": "52d65a6e-cb82-4640-987c-a87803303f95",
   "metadata": {},
   "source": [
    "### Step 1: Identify the `intent` of the user's query"
   ]
  },
  {
   "cell_type": "markdown",
   "id": "609c1870-55b3-4752-8683-ef79c2fc582f",
   "metadata": {},
   "source": [
    "##### Load example prompt and completion pairs needed for intent detection"
   ]
  },
  {
   "cell_type": "code",
   "execution_count": 8,
   "id": "edd80864-902e-4bd6-98ef-fa3520c3625a",
   "metadata": {},
   "outputs": [],
   "source": [
    "messages = []"
   ]
  },
  {
   "cell_type": "code",
   "execution_count": 9,
   "id": "3203ddec-7303-4a3d-88e8-b232251e58fb",
   "metadata": {},
   "outputs": [
    {
     "data": {
      "text/html": [
       "<div>\n",
       "<style scoped>\n",
       "    .dataframe tbody tr th:only-of-type {\n",
       "        vertical-align: middle;\n",
       "    }\n",
       "\n",
       "    .dataframe tbody tr th {\n",
       "        vertical-align: top;\n",
       "    }\n",
       "\n",
       "    .dataframe thead th {\n",
       "        text-align: right;\n",
       "    }\n",
       "</style>\n",
       "<table border=\"1\" class=\"dataframe\">\n",
       "  <thead>\n",
       "    <tr style=\"text-align: right;\">\n",
       "      <th></th>\n",
       "      <th>Prompt</th>\n",
       "      <th>Intent</th>\n",
       "    </tr>\n",
       "  </thead>\n",
       "  <tbody>\n",
       "    <tr>\n",
       "      <th>0</th>\n",
       "      <td>I'm looking to book a single room in Orlando f...</td>\n",
       "      <td>MAKE_RESERVATION</td>\n",
       "    </tr>\n",
       "    <tr>\n",
       "      <th>1</th>\n",
       "      <td>Can I reserve a suite in New York from Decembe...</td>\n",
       "      <td>MAKE_RESERVATION</td>\n",
       "    </tr>\n",
       "    <tr>\n",
       "      <th>2</th>\n",
       "      <td>I'd like to change my reservation from a doubl...</td>\n",
       "      <td>MODIFY_RESERVATION</td>\n",
       "    </tr>\n",
       "    <tr>\n",
       "      <th>3</th>\n",
       "      <td>Is it possible to cancel my booking for the we...</td>\n",
       "      <td>CANCEL_RESERVATION</td>\n",
       "    </tr>\n",
       "    <tr>\n",
       "      <th>4</th>\n",
       "      <td>Do you have any available rooms with a sea vie...</td>\n",
       "      <td>CHECK_AVAILABILITY</td>\n",
       "    </tr>\n",
       "  </tbody>\n",
       "</table>\n",
       "</div>"
      ],
      "text/plain": [
       "                                              Prompt              Intent\n",
       "0  I'm looking to book a single room in Orlando f...    MAKE_RESERVATION\n",
       "1  Can I reserve a suite in New York from Decembe...    MAKE_RESERVATION\n",
       "2  I'd like to change my reservation from a doubl...  MODIFY_RESERVATION\n",
       "3  Is it possible to cancel my booking for the we...  CANCEL_RESERVATION\n",
       "4  Do you have any available rooms with a sea vie...  CHECK_AVAILABILITY"
      ]
     },
     "execution_count": 9,
     "metadata": {},
     "output_type": "execute_result"
    }
   ],
   "source": [
    "examples = pd.read_csv('./DATA/hotel_reservation_intent_prompts.csv')\n",
    "examples.head()"
   ]
  },
  {
   "cell_type": "code",
   "execution_count": 10,
   "id": "7602708f-3523-4771-b2c4-a89de7d5e7f3",
   "metadata": {},
   "outputs": [],
   "source": [
    "template = \"You are a helpful assistant capable of detecting the intent behind a user's query.\"\n",
    "system_message_prompt = SystemMessagePromptTemplate.from_template(template)\n",
    "messages.append(system_message_prompt)"
   ]
  },
  {
   "cell_type": "code",
   "execution_count": 11,
   "id": "21e08ee5-cec9-45cf-98a2-1f8a98e52649",
   "metadata": {},
   "outputs": [],
   "source": [
    "for _, row in examples.iterrows():\n",
    "    prompt, completion = row\n",
    "    human_message = HumanMessagePromptTemplate.from_template(prompt)\n",
    "    messages.append(human_message)\n",
    "    ai_message = AIMessagePromptTemplate.from_template(completion)\n",
    "    messages.append(ai_message)"
   ]
  },
  {
   "cell_type": "code",
   "execution_count": 12,
   "id": "6116d0f1-47e0-4282-a5c2-d0ae7317b209",
   "metadata": {},
   "outputs": [],
   "source": [
    "human_template = \"{user_query}\"\n",
    "human_message = HumanMessagePromptTemplate.from_template(human_template)\n",
    "messages.append(human_message)"
   ]
  },
  {
   "cell_type": "code",
   "execution_count": 13,
   "id": "c019cd85-539a-4030-ba83-0db73701aa69",
   "metadata": {},
   "outputs": [],
   "source": [
    "chat_prompt = ChatPromptTemplate.from_messages(messages)"
   ]
  },
  {
   "cell_type": "code",
   "execution_count": 14,
   "id": "36b160c9-33f5-4978-85f8-1d049922dab6",
   "metadata": {},
   "outputs": [],
   "source": [
    "user_query = \"I would like to make a reservation in Miami for four nights from September 23rd to the 28th\"\n",
    "request = chat_prompt.format_prompt(user_query=user_query).to_messages()"
   ]
  },
  {
   "cell_type": "code",
   "execution_count": 15,
   "id": "06dd43b3-d705-4637-8721-44f23cfc3d75",
   "metadata": {},
   "outputs": [
    {
     "name": "stdout",
     "output_type": "stream",
     "text": [
      "CPU times: user 26.2 ms, sys: 4.33 ms, total: 30.5 ms\n",
      "Wall time: 2.55 s\n"
     ]
    }
   ],
   "source": [
    "%%time \n",
    "\n",
    "response = llm(request)"
   ]
  },
  {
   "cell_type": "code",
   "execution_count": 16,
   "id": "a43b774f-0a96-40d0-96b4-70580f263c57",
   "metadata": {},
   "outputs": [
    {
     "name": "stderr",
     "output_type": "stream",
     "text": [
      "MAKE_RESERVATION\n"
     ]
    }
   ],
   "source": [
    "intent = response.content.strip()\n",
    "logger.info(intent)"
   ]
  },
  {
   "cell_type": "markdown",
   "id": "4bfea293-0f0a-40af-9905-f5c041c97c22",
   "metadata": {},
   "source": [
    "### Step 2: Extract the entities from the user query"
   ]
  },
  {
   "cell_type": "markdown",
   "id": "f0c68a41-37ae-43d2-bcc2-5baa49f8fe64",
   "metadata": {},
   "source": [
    "Load example prompt and completion pairs needed for entity recognition"
   ]
  },
  {
   "cell_type": "code",
   "execution_count": 17,
   "id": "882df9a4-0bfa-4520-8fad-96f094162421",
   "metadata": {},
   "outputs": [],
   "source": [
    "messages = []"
   ]
  },
  {
   "cell_type": "code",
   "execution_count": 18,
   "id": "87ef8f0e-c78c-41bc-956d-11011c1d3809",
   "metadata": {},
   "outputs": [
    {
     "data": {
      "text/html": [
       "<div>\n",
       "<style scoped>\n",
       "    .dataframe tbody tr th:only-of-type {\n",
       "        vertical-align: middle;\n",
       "    }\n",
       "\n",
       "    .dataframe tbody tr th {\n",
       "        vertical-align: top;\n",
       "    }\n",
       "\n",
       "    .dataframe thead th {\n",
       "        text-align: right;\n",
       "    }\n",
       "</style>\n",
       "<table border=\"1\" class=\"dataframe\">\n",
       "  <thead>\n",
       "    <tr style=\"text-align: right;\">\n",
       "      <th></th>\n",
       "      <th>Prompt</th>\n",
       "      <th>Extracted Entities</th>\n",
       "    </tr>\n",
       "  </thead>\n",
       "  <tbody>\n",
       "    <tr>\n",
       "      <th>0</th>\n",
       "      <td>I need to book a room at Hilton in London from...</td>\n",
       "      <td>Hotel Brand:Hilton|Location:London|Start Date:...</td>\n",
       "    </tr>\n",
       "    <tr>\n",
       "      <th>1</th>\n",
       "      <td>Please find availability at Marriott in New Yo...</td>\n",
       "      <td>Hotel Brand:Marriott|Location:New York|Start D...</td>\n",
       "    </tr>\n",
       "    <tr>\n",
       "      <th>2</th>\n",
       "      <td>I'm planning to stay at the Hyatt in Paris fro...</td>\n",
       "      <td>Hotel Brand:Hyatt|Location:Paris|Start Date:De...</td>\n",
       "    </tr>\n",
       "    <tr>\n",
       "      <th>3</th>\n",
       "      <td>Can you check rates for Sheraton in Rome for t...</td>\n",
       "      <td>Hotel Brand:Sheraton|Location:Rome|Start Date:...</td>\n",
       "    </tr>\n",
       "    <tr>\n",
       "      <th>4</th>\n",
       "      <td>I am looking for rooms at the Ritz-Carlton in ...</td>\n",
       "      <td>Hotel Brand:Ritz-Carlton|Location:Tokyo|Start ...</td>\n",
       "    </tr>\n",
       "  </tbody>\n",
       "</table>\n",
       "</div>"
      ],
      "text/plain": [
       "                                              Prompt  \\\n",
       "0  I need to book a room at Hilton in London from...   \n",
       "1  Please find availability at Marriott in New Yo...   \n",
       "2  I'm planning to stay at the Hyatt in Paris fro...   \n",
       "3  Can you check rates for Sheraton in Rome for t...   \n",
       "4  I am looking for rooms at the Ritz-Carlton in ...   \n",
       "\n",
       "                                  Extracted Entities  \n",
       "0  Hotel Brand:Hilton|Location:London|Start Date:...  \n",
       "1  Hotel Brand:Marriott|Location:New York|Start D...  \n",
       "2  Hotel Brand:Hyatt|Location:Paris|Start Date:De...  \n",
       "3  Hotel Brand:Sheraton|Location:Rome|Start Date:...  \n",
       "4  Hotel Brand:Ritz-Carlton|Location:Tokyo|Start ...  "
      ]
     },
     "execution_count": 18,
     "metadata": {},
     "output_type": "execute_result"
    }
   ],
   "source": [
    "examples = pd.read_csv('./DATA/hotel_reservation_ner_prompts.csv')\n",
    "examples.head()"
   ]
  },
  {
   "cell_type": "code",
   "execution_count": 19,
   "id": "6d2ab3f8-b094-41ae-b1b8-0c73c7cf0745",
   "metadata": {},
   "outputs": [],
   "source": [
    "template = \"You are a helpful assistant capable of performing named entity recognition.\"\n",
    "system_message_prompt = SystemMessagePromptTemplate.from_template(template)\n",
    "messages.append(system_message_prompt)"
   ]
  },
  {
   "cell_type": "code",
   "execution_count": 20,
   "id": "90a035f6-4a09-443b-8dd6-418bc75e89a3",
   "metadata": {},
   "outputs": [],
   "source": [
    "for _, row in examples.iterrows():\n",
    "    prompt, completion = row\n",
    "    human_message = HumanMessagePromptTemplate.from_template(prompt)\n",
    "    messages.append(human_message)\n",
    "    ai_message = AIMessagePromptTemplate.from_template(completion)\n",
    "    messages.append(ai_message)"
   ]
  },
  {
   "cell_type": "code",
   "execution_count": 21,
   "id": "ee401a5b-73b0-4b51-b9b1-b4fb7ddd74b4",
   "metadata": {},
   "outputs": [],
   "source": [
    "human_template = \"{user_query} Standardize the date format to YYYY-MM-DD.\"\n",
    "human_message = HumanMessagePromptTemplate.from_template(human_template)\n",
    "messages.append(human_message)"
   ]
  },
  {
   "cell_type": "code",
   "execution_count": 22,
   "id": "025b88c5-ba1b-434d-a407-918930af6ef0",
   "metadata": {},
   "outputs": [],
   "source": [
    "chat_prompt = ChatPromptTemplate.from_messages(messages)"
   ]
  },
  {
   "cell_type": "code",
   "execution_count": 23,
   "id": "128b1cde-ce54-4cf2-8a6b-ee7e8da50e32",
   "metadata": {},
   "outputs": [],
   "source": [
    "user_query = \"I would like to make a reservation in Miami for four nights from September 23rd to the 28th for 2023.\"\n",
    "request = chat_prompt.format_prompt(user_query=user_query).to_messages()"
   ]
  },
  {
   "cell_type": "code",
   "execution_count": 24,
   "id": "9cb84887-02d2-42da-848b-b04b40e22b0c",
   "metadata": {},
   "outputs": [
    {
     "name": "stdout",
     "output_type": "stream",
     "text": [
      "CPU times: user 5.47 ms, sys: 216 µs, total: 5.68 ms\n",
      "Wall time: 1.04 s\n"
     ]
    }
   ],
   "source": [
    "%%time \n",
    "\n",
    "response = llm(request)"
   ]
  },
  {
   "cell_type": "code",
   "execution_count": 25,
   "id": "256680db-b688-4440-aa5a-7bc78cb6a0e7",
   "metadata": {},
   "outputs": [
    {
     "name": "stderr",
     "output_type": "stream",
     "text": [
      "Location:Miami|Start Date:2023-09-23|End Date:2023-09-28\n"
     ]
    }
   ],
   "source": [
    "entities = response.content.strip()\n",
    "logger.info(entities)"
   ]
  },
  {
   "cell_type": "markdown",
   "id": "a6249778-0e8a-44c5-bcb1-dc3471258cfd",
   "metadata": {},
   "source": [
    "### Step 3: Map Intent to Database Action"
   ]
  },
  {
   "cell_type": "code",
   "execution_count": 26,
   "id": "0df9baa0-b708-4c3d-bf81-5feebbd212c3",
   "metadata": {},
   "outputs": [],
   "source": [
    "messages = []"
   ]
  },
  {
   "cell_type": "code",
   "execution_count": 27,
   "id": "0ae47bfc-b586-4b88-8d2a-554d208038b6",
   "metadata": {},
   "outputs": [
    {
     "data": {
      "text/html": [
       "<div>\n",
       "<style scoped>\n",
       "    .dataframe tbody tr th:only-of-type {\n",
       "        vertical-align: middle;\n",
       "    }\n",
       "\n",
       "    .dataframe tbody tr th {\n",
       "        vertical-align: top;\n",
       "    }\n",
       "\n",
       "    .dataframe thead th {\n",
       "        text-align: right;\n",
       "    }\n",
       "</style>\n",
       "<table border=\"1\" class=\"dataframe\">\n",
       "  <thead>\n",
       "    <tr style=\"text-align: right;\">\n",
       "      <th></th>\n",
       "      <th>Intent</th>\n",
       "      <th>Tables</th>\n",
       "    </tr>\n",
       "  </thead>\n",
       "  <tbody>\n",
       "    <tr>\n",
       "      <th>0</th>\n",
       "      <td>MAKE_RESERVATION</td>\n",
       "      <td>reservations|rooms|hotels</td>\n",
       "    </tr>\n",
       "    <tr>\n",
       "      <th>1</th>\n",
       "      <td>CANCEL_RESERVATION</td>\n",
       "      <td>reservations</td>\n",
       "    </tr>\n",
       "    <tr>\n",
       "      <th>2</th>\n",
       "      <td>UPDATE_RESERVATION</td>\n",
       "      <td>reservations|rooms</td>\n",
       "    </tr>\n",
       "    <tr>\n",
       "      <th>3</th>\n",
       "      <td>GET_HOTEL_INFO</td>\n",
       "      <td>hotels</td>\n",
       "    </tr>\n",
       "    <tr>\n",
       "      <th>4</th>\n",
       "      <td>GET_ROOM_DETAILS</td>\n",
       "      <td>rooms</td>\n",
       "    </tr>\n",
       "  </tbody>\n",
       "</table>\n",
       "</div>"
      ],
      "text/plain": [
       "               Intent                     Tables\n",
       "0    MAKE_RESERVATION  reservations|rooms|hotels\n",
       "1  CANCEL_RESERVATION               reservations\n",
       "2  UPDATE_RESERVATION         reservations|rooms\n",
       "3      GET_HOTEL_INFO                     hotels\n",
       "4    GET_ROOM_DETAILS                      rooms"
      ]
     },
     "execution_count": 27,
     "metadata": {},
     "output_type": "execute_result"
    }
   ],
   "source": [
    "examples = pd.read_csv('./DATA/intent_to_tables.csv')\n",
    "examples.head()"
   ]
  },
  {
   "cell_type": "code",
   "execution_count": 28,
   "id": "5a15fc4d-ec8d-4f55-8063-c388629fab9b",
   "metadata": {},
   "outputs": [],
   "source": [
    "template = \"You are a helpful assistant capable of mapping detected intent to the correct list of BigQuery tables.\"\n",
    "system_message_prompt = SystemMessagePromptTemplate.from_template(template)\n",
    "messages.append(system_message_prompt)"
   ]
  },
  {
   "cell_type": "code",
   "execution_count": 29,
   "id": "e360225d-7880-486d-a16e-07cf73b6a7a3",
   "metadata": {},
   "outputs": [],
   "source": [
    "for _, row in examples.iterrows():\n",
    "    prompt, completion = row\n",
    "    human_message = HumanMessagePromptTemplate.from_template(prompt)\n",
    "    messages.append(human_message)\n",
    "    ai_message = AIMessagePromptTemplate.from_template(completion)\n",
    "    messages.append(ai_message)"
   ]
  },
  {
   "cell_type": "code",
   "execution_count": 30,
   "id": "5466b959-ed90-4e15-8130-beeb503e8f83",
   "metadata": {},
   "outputs": [],
   "source": [
    "human_template = \"{user_intent}\"\n",
    "human_message = HumanMessagePromptTemplate.from_template(human_template)\n",
    "messages.append(human_message)"
   ]
  },
  {
   "cell_type": "code",
   "execution_count": 31,
   "id": "6fbf6e62-4909-42d1-a5ce-4539b90fc49f",
   "metadata": {},
   "outputs": [],
   "source": [
    "chat_prompt = ChatPromptTemplate.from_messages(messages)"
   ]
  },
  {
   "cell_type": "code",
   "execution_count": 32,
   "id": "790348fd-22d9-4491-94bc-ae7de28d1756",
   "metadata": {},
   "outputs": [],
   "source": [
    "request = chat_prompt.format_prompt(user_intent=intent).to_messages()"
   ]
  },
  {
   "cell_type": "code",
   "execution_count": 33,
   "id": "3e245c6a-f3e4-44c9-a416-e2fc03095755",
   "metadata": {},
   "outputs": [
    {
     "name": "stdout",
     "output_type": "stream",
     "text": [
      "CPU times: user 4.71 ms, sys: 715 µs, total: 5.42 ms\n",
      "Wall time: 433 ms\n"
     ]
    }
   ],
   "source": [
    "%%time \n",
    "\n",
    "response = llm(request)"
   ]
  },
  {
   "cell_type": "code",
   "execution_count": 34,
   "id": "493b5d96-8bd9-4fb2-9223-551ddd7af4d7",
   "metadata": {},
   "outputs": [
    {
     "name": "stderr",
     "output_type": "stream",
     "text": [
      "reservations|rooms|hotels\n"
     ]
    }
   ],
   "source": [
    "tables = response.content.strip()\n",
    "logger.info(tables)"
   ]
  },
  {
   "cell_type": "markdown",
   "id": "4a47dd88-7d05-400f-8bb7-ca434ab2fe4f",
   "metadata": {},
   "source": [
    "### Step 4: SQL Creation"
   ]
  },
  {
   "cell_type": "markdown",
   "id": "aac42698-c7fa-4562-90b5-ed63e7790858",
   "metadata": {},
   "source": [
    "Load table descriptions as additional context to help SQL creation"
   ]
  },
  {
   "cell_type": "code",
   "execution_count": 35,
   "id": "e47d9588-76bd-46b5-becd-b0b57df147a3",
   "metadata": {},
   "outputs": [],
   "source": [
    "with open(\"./DATA/descriptions/hotels.txt\", \"rb\") as f:\n",
    "    hotels_table_desc = f.read()"
   ]
  },
  {
   "cell_type": "code",
   "execution_count": 36,
   "id": "4eb107b0-aeb4-4f7e-b32d-3ae30fd9350b",
   "metadata": {},
   "outputs": [],
   "source": [
    "with open(\"./DATA/descriptions/rooms.txt\", \"rb\") as f:\n",
    "    rooms_table_desc = f.read()"
   ]
  },
  {
   "cell_type": "code",
   "execution_count": 37,
   "id": "fd6e5ddf-5a78-4c65-a4d6-745fc7c3ad43",
   "metadata": {},
   "outputs": [],
   "source": [
    "with open(\"./DATA/descriptions/reservations.txt\", \"rb\") as f:\n",
    "    reservations_table_desc = f.read()"
   ]
  },
  {
   "cell_type": "markdown",
   "id": "335f28dd-89da-4a23-84fc-45ffd3643e36",
   "metadata": {},
   "source": [
    "**Note:** Load descriptions based on mapped tables from the previous step. Do not load all of the descriptions."
   ]
  },
  {
   "cell_type": "code",
   "execution_count": 38,
   "id": "480c2ac3-f0fa-4d67-be8b-ea7fd30c4bc1",
   "metadata": {},
   "outputs": [],
   "source": [
    "messages = []"
   ]
  },
  {
   "cell_type": "code",
   "execution_count": 39,
   "id": "57f0f5d0-c600-4250-924a-c7b5e6e0f5c3",
   "metadata": {},
   "outputs": [],
   "source": [
    "template = \"You are a SQL master expert capable of writing complex SQL query in BigQuery.\"\n",
    "system_message_prompt = SystemMessagePromptTemplate.from_template(template)\n",
    "messages.append(system_message_prompt)"
   ]
  },
  {
   "cell_type": "code",
   "execution_count": 40,
   "id": "e0151e93-311a-452e-9824-1d70f333bc39",
   "metadata": {},
   "outputs": [],
   "source": [
    "human_template = \"\"\"Given the following inputs:\n",
    "- INTENT: {intent}\n",
    "- EXTRACTED_ENTITIES: {entities}\n",
    "- MAPPED_TABLES: {tables}\n",
    "\n",
    "Please construct a SQL query using the MAPPED_TABLES. \n",
    "The goal is to determine the availability of hotels based on the EXTRACTED_ENTITIES. \n",
    "Extract all info regarding the available hotels and rooms including its price.\n",
    "\n",
    "Below are the schema descriptions for the relevant tables:\n",
    "\n",
    "**Hotels Table:**\n",
    "{hotels_table_desc}\n",
    "\n",
    "**Rooms Table:**\n",
    "{rooms_table_desc}\n",
    "\n",
    "**Reservations Table:**\n",
    "{reservations_table_desc}\n",
    "\n",
    "Note: Prefix the table names with `hotel_reservations.\"\"\""
   ]
  },
  {
   "cell_type": "code",
   "execution_count": 41,
   "id": "669fd020-d308-4f72-b8ec-eb9d0e957254",
   "metadata": {},
   "outputs": [],
   "source": [
    "human_message = HumanMessagePromptTemplate.from_template(human_template)\n",
    "messages.append(human_message)"
   ]
  },
  {
   "cell_type": "code",
   "execution_count": 42,
   "id": "d6e1ffd5-36b7-4a44-beb2-cd670a232ae7",
   "metadata": {},
   "outputs": [
    {
     "data": {
      "text/plain": [
       "[SystemMessagePromptTemplate(prompt=PromptTemplate(input_variables=[], output_parser=None, partial_variables={}, template='You are a SQL master expert capable of writing complex SQL query in BigQuery.', template_format='f-string', validate_template=True), additional_kwargs={}),\n",
       " HumanMessagePromptTemplate(prompt=PromptTemplate(input_variables=['entities', 'hotels_table_desc', 'intent', 'reservations_table_desc', 'rooms_table_desc', 'tables'], output_parser=None, partial_variables={}, template='Given the following inputs:\\n- INTENT: {intent}\\n- EXTRACTED_ENTITIES: {entities}\\n- MAPPED_TABLES: {tables}\\n\\nPlease construct a SQL query using the MAPPED_TABLES. \\nThe goal is to determine the availability of hotels based on the EXTRACTED_ENTITIES. \\nExtract all info regarding the available hotels and rooms including its price.\\n\\nBelow are the schema descriptions for the relevant tables:\\n\\n**Hotels Table:**\\n{hotels_table_desc}\\n\\n**Rooms Table:**\\n{rooms_table_desc}\\n\\n**Reservations Table:**\\n{reservations_table_desc}\\n\\nNote: Prefix the table names with `hotel_reservations.', template_format='f-string', validate_template=True), additional_kwargs={})]"
      ]
     },
     "execution_count": 42,
     "metadata": {},
     "output_type": "execute_result"
    }
   ],
   "source": [
    "messages"
   ]
  },
  {
   "cell_type": "code",
   "execution_count": 43,
   "id": "b51471c9-3fe7-4b6e-843f-6a90c771b02d",
   "metadata": {},
   "outputs": [],
   "source": [
    "chat_prompt = ChatPromptTemplate.from_messages(messages)"
   ]
  },
  {
   "cell_type": "code",
   "execution_count": 44,
   "id": "b642faa4-844a-4018-a903-70fd9a4b9bbe",
   "metadata": {},
   "outputs": [],
   "source": [
    "request = chat_prompt.format_prompt(intent=intent, \n",
    "                                    entities=entities, \n",
    "                                    tables=tables, \n",
    "                                    hotels_table_desc=hotels_table_desc, \n",
    "                                    rooms_table_desc=rooms_table_desc, \n",
    "                                    reservations_table_desc=reservations_table_desc).to_messages()"
   ]
  },
  {
   "cell_type": "code",
   "execution_count": 45,
   "id": "43f6e85b-999b-419d-89e2-e709d557e618",
   "metadata": {},
   "outputs": [
    {
     "name": "stdout",
     "output_type": "stream",
     "text": [
      "CPU times: user 6.22 ms, sys: 957 µs, total: 7.18 ms\n",
      "Wall time: 4.21 s\n"
     ]
    }
   ],
   "source": [
    "%%time \n",
    "\n",
    "response = llm(request)"
   ]
  },
  {
   "cell_type": "code",
   "execution_count": 46,
   "id": "aeba4203-69eb-4cac-a37d-bf1f253849c1",
   "metadata": {},
   "outputs": [
    {
     "name": "stderr",
     "output_type": "stream",
     "text": [
      "SELECT \n",
      "  h.hotel_name,\n",
      "  r.room_type,\n",
      "  r.price_per_night,\n",
      "  r.availability\n",
      "FROM hotel_reservations.hotels h\n",
      "JOIN hotel_reservations.rooms r\n",
      "ON h.hotel_id = r.hotel_id\n",
      "WHERE h.location = 'Miami'\n",
      "AND r.availability > 0\n",
      "AND NOT EXISTS (\n",
      "  SELECT *\n",
      "  FROM hotel_reservations.reservations res\n",
      "  WHERE res.room_id = r.room_id\n",
      "  AND (\n",
      "    (res.start_date BETWEEN '2023-09-23' AND '2023-09-28')\n",
      "    OR (res.end_date BETWEEN '2023-09-23' AND '2023-09-28')\n",
      "    OR ('2023-09-23' BETWEEN res.start_date AND res.end_date)\n",
      "    OR ('2023-09-28' BETWEEN res.start_date AND res.end_date)\n",
      "  )\n",
      ")\n"
     ]
    }
   ],
   "source": [
    "sql = '\\n'.join(response.content.strip().split('\\n')[1:-1])\n",
    "logger.info(sql)"
   ]
  },
  {
   "cell_type": "markdown",
   "id": "92250742-c3f8-4d3f-b45e-f60a15fe861c",
   "metadata": {},
   "source": [
    "### Step 5: Execute the SQL query in BigQuery"
   ]
  },
  {
   "cell_type": "code",
   "execution_count": 47,
   "id": "df6ed74e-d00b-4799-b759-394501988a37",
   "metadata": {},
   "outputs": [],
   "source": [
    "query_job = bq.query(sql)"
   ]
  },
  {
   "cell_type": "code",
   "execution_count": 48,
   "id": "95b13d71-53bd-4127-ad05-1073ee1135b4",
   "metadata": {},
   "outputs": [
    {
     "name": "stderr",
     "output_type": "stream",
     "text": [
      "Hotel name = Beachfront Resort\n",
      "Room type = Deluxe\n",
      "Price per night in $ = 180.0\n",
      "Number of rooms available = 10\n",
      "\n",
      "Hotel name = Beachfront Resort\n",
      "Room type = Suite\n",
      "Price per night in $ = 280.0\n",
      "Number of rooms available = 5\n"
     ]
    }
   ],
   "source": [
    "sql_result = []\n",
    "\n",
    "for row in query_job:\n",
    "    sql_result.append(f\"Hotel name = {row.hotel_name}\")\n",
    "    sql_result.append(f\"Room type = {row.room_type}\")\n",
    "    sql_result.append(f\"Price per night in $ = {row.price_per_night}\")\n",
    "    sql_result.append(f\"Number of rooms available = {row.availability}\")\n",
    "    sql_result.append(\"\")\n",
    "\n",
    "sql_result = \"\\n\".join(sql_result).strip()\n",
    "logger.info(sql_result)"
   ]
  },
  {
   "cell_type": "markdown",
   "id": "23492856-4ec6-44ec-84ac-543d844bb5a6",
   "metadata": {},
   "source": [
    "### Step 6: Transform SQL results into a human friendly response"
   ]
  },
  {
   "cell_type": "code",
   "execution_count": 49,
   "id": "e412c470-ec03-4768-b41d-63d80d95376a",
   "metadata": {},
   "outputs": [],
   "source": [
    "messages = []"
   ]
  },
  {
   "cell_type": "code",
   "execution_count": 50,
   "id": "8750e86b-3157-42b2-a6ce-2841aabde957",
   "metadata": {},
   "outputs": [],
   "source": [
    "template = \"You are a travel assistant chatbot that can help people make travel reservations.\"\n",
    "system_message_prompt = SystemMessagePromptTemplate.from_template(template)\n",
    "messages.append(system_message_prompt)"
   ]
  },
  {
   "cell_type": "code",
   "execution_count": 51,
   "id": "b647788e-5876-4731-95da-08afec9b0d84",
   "metadata": {},
   "outputs": [],
   "source": [
    "human_template = \"\"\"{user_query}\n",
    "\n",
    "Given the following list of room availabilities as below:\n",
    "{sql_result}\n",
    "\n",
    "Please transform them into a human-readable format.\"\"\""
   ]
  },
  {
   "cell_type": "code",
   "execution_count": 52,
   "id": "6c00a1d1-1afd-4155-9b6a-0f0f902041e0",
   "metadata": {},
   "outputs": [],
   "source": [
    "human_message = HumanMessagePromptTemplate.from_template(human_template)\n",
    "messages.append(human_message)"
   ]
  },
  {
   "cell_type": "code",
   "execution_count": 53,
   "id": "ecc333d7-232f-4311-b4e0-de1b0d316a67",
   "metadata": {},
   "outputs": [],
   "source": [
    "chat_prompt = ChatPromptTemplate.from_messages(messages)"
   ]
  },
  {
   "cell_type": "code",
   "execution_count": 54,
   "id": "7f11fe13-110d-451b-a4cf-a00fd2599761",
   "metadata": {},
   "outputs": [],
   "source": [
    "request = chat_prompt.format_prompt(user_query=user_query,\n",
    "                                    sql_result=sql_result).to_messages()"
   ]
  },
  {
   "cell_type": "code",
   "execution_count": 55,
   "id": "07361137-d44f-4960-ad93-770e918db663",
   "metadata": {},
   "outputs": [
    {
     "name": "stdout",
     "output_type": "stream",
     "text": [
      "CPU times: user 4.47 ms, sys: 685 µs, total: 5.15 ms\n",
      "Wall time: 1.36 s\n"
     ]
    }
   ],
   "source": [
    "%%time \n",
    "\n",
    "response = llm(request)"
   ]
  },
  {
   "cell_type": "code",
   "execution_count": 56,
   "id": "b9dff494-923d-4eba-b24f-3172ee7cbf79",
   "metadata": {},
   "outputs": [
    {
     "name": "stderr",
     "output_type": "stream",
     "text": [
      "Here are the room availabilities for your requested stay at the Beachfront Resort:\n",
      "\n",
      "**Deluxe Room**\n",
      "\n",
      "* Price per night: $180.00\n",
      "* Number of rooms available: 10\n",
      "\n",
      "**Suite**\n",
      "\n",
      "* Price per night: $280.00\n",
      "* Number of rooms available: 5\n"
     ]
    }
   ],
   "source": [
    "output = response.content.strip()\n",
    "logger.info(output)"
   ]
  },
  {
   "cell_type": "code",
   "execution_count": null,
   "id": "f50f23bc-ba96-45c4-a332-236a40f6f199",
   "metadata": {},
   "outputs": [],
   "source": []
  }
 ],
 "metadata": {
  "environment": {
   "kernel": "python3",
   "name": "common-cpu.m110",
   "type": "gcloud",
   "uri": "gcr.io/deeplearning-platform-release/base-cpu:m110"
  },
  "kernelspec": {
   "display_name": "Python 3",
   "language": "python",
   "name": "python3"
  },
  "language_info": {
   "codemirror_mode": {
    "name": "ipython",
    "version": 3
   },
   "file_extension": ".py",
   "mimetype": "text/x-python",
   "name": "python",
   "nbconvert_exporter": "python",
   "pygments_lexer": "ipython3",
   "version": "3.10.12"
  }
 },
 "nbformat": 4,
 "nbformat_minor": 5
}
