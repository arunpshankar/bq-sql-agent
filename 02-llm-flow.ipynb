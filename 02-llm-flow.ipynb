{
 "cells": [
  {
   "cell_type": "markdown",
   "id": "2a59b2aa-b879-4753-9505-e7e36a9e829b",
   "metadata": {},
   "source": [
    "## LLM Flow"
   ]
  },
  {
   "cell_type": "markdown",
   "id": "cdc0e4b0-8d1e-45a0-b73f-c45854fb91c8",
   "metadata": {},
   "source": [
    "#### Imports "
   ]
  },
  {
   "cell_type": "code",
   "execution_count": 1,
   "id": "926b288e-44b7-4217-a92b-579bb050f7a3",
   "metadata": {},
   "outputs": [],
   "source": [
    "from langchain.prompts.chat import SystemMessagePromptTemplate\n",
    "from langchain.prompts.chat import HumanMessagePromptTemplate\n",
    "from langchain.prompts.chat import AIMessagePromptTemplate\n",
    "from langchain.prompts.chat import ChatPromptTemplate\n",
    "from langchain.chat_models import ChatVertexAI\n",
    "from langchain.schema import SystemMessage\n",
    "from langchain.schema import HumanMessage\n",
    "from google.cloud import aiplatform\n",
    "from google.cloud import bigquery\n",
    "import pandas as pd\n",
    "import langchain\n",
    "import datetime\n",
    "import logging\n",
    "import google"
   ]
  },
  {
   "cell_type": "markdown",
   "id": "6dfa361e-1e53-4a8d-a724-60b5a1b91c0b",
   "metadata": {},
   "source": [
    "##### Setup logging"
   ]
  },
  {
   "cell_type": "code",
   "execution_count": 2,
   "id": "695b22a4-b0be-4c32-9221-4b3c048ff0a4",
   "metadata": {},
   "outputs": [],
   "source": [
    "logger = logging.getLogger(__name__)\n",
    "logger.setLevel(logging.INFO)\n",
    "logger.addHandler(logging.StreamHandler())"
   ]
  },
  {
   "cell_type": "markdown",
   "id": "ab59b237-cd91-4724-ba21-43062d682164",
   "metadata": {},
   "source": [
    "#### Essentials "
   ]
  },
  {
   "cell_type": "code",
   "execution_count": 3,
   "id": "c19618e9-ac2e-48f2-8e04-ad6cfaa2166d",
   "metadata": {},
   "outputs": [
    {
     "name": "stdout",
     "output_type": "stream",
     "text": [
      "/home/jupyter/bq-sql-agent\n"
     ]
    }
   ],
   "source": [
    "%cd /home/jupyter/bq-sql-agent"
   ]
  },
  {
   "cell_type": "code",
   "execution_count": 4,
   "id": "c4351f5a-4ba0-42e9-b0f6-1772accf0f7b",
   "metadata": {},
   "outputs": [
    {
     "data": {
      "text/plain": [
       "'/home/jupyter/bq-sql-agent'"
      ]
     },
     "execution_count": 4,
     "metadata": {},
     "output_type": "execute_result"
    }
   ],
   "source": [
    "%pwd"
   ]
  },
  {
   "cell_type": "code",
   "execution_count": 5,
   "id": "38589da0-d8e0-4ae2-b787-ef6ccd87a9b8",
   "metadata": {},
   "outputs": [],
   "source": [
    "PROJECT = 'arun-genai-bb'\n",
    "LOCATION = 'us-central1'\n",
    "MODEL_NAME = 'chat-bison'"
   ]
  },
  {
   "cell_type": "code",
   "execution_count": 6,
   "id": "d7079800-0e0b-4692-9fb9-d56f31aaffae",
   "metadata": {},
   "outputs": [],
   "source": [
    "bq = bigquery.Client()"
   ]
  },
  {
   "cell_type": "code",
   "execution_count": 7,
   "id": "d04c7f3e-14d2-423e-8559-9edc0d457a3a",
   "metadata": {},
   "outputs": [],
   "source": [
    "llm = ChatVertexAI(project=PROJECT, \n",
    "                   location=LOCATION, \n",
    "                   model_name=MODEL_NAME,\n",
    "                   temperature=0.0)"
   ]
  },
  {
   "cell_type": "markdown",
   "id": "52d65a6e-cb82-4640-987c-a87803303f95",
   "metadata": {},
   "source": [
    "### Step 1: Identify the `intent` of the user's query"
   ]
  },
  {
   "cell_type": "code",
   "execution_count": 11,
   "id": "238ff661-2fd6-4f49-ac66-6ff803c01ba5",
   "metadata": {},
   "outputs": [],
   "source": [
    "prompt = \"I would like to make a reservation in Miami for four nights from September 23rd to the 28th. What are my options?\""
   ]
  },
  {
   "cell_type": "markdown",
   "id": "609c1870-55b3-4752-8683-ef79c2fc582f",
   "metadata": {},
   "source": [
    "##### Load example prompt and completion pairs needed for intent detection"
   ]
  },
  {
   "cell_type": "code",
   "execution_count": 12,
   "id": "edd80864-902e-4bd6-98ef-fa3520c3625a",
   "metadata": {},
   "outputs": [],
   "source": [
    "messages = []"
   ]
  },
  {
   "cell_type": "code",
   "execution_count": 13,
   "id": "3203ddec-7303-4a3d-88e8-b232251e58fb",
   "metadata": {},
   "outputs": [
    {
     "data": {
      "text/html": [
       "<div>\n",
       "<style scoped>\n",
       "    .dataframe tbody tr th:only-of-type {\n",
       "        vertical-align: middle;\n",
       "    }\n",
       "\n",
       "    .dataframe tbody tr th {\n",
       "        vertical-align: top;\n",
       "    }\n",
       "\n",
       "    .dataframe thead th {\n",
       "        text-align: right;\n",
       "    }\n",
       "</style>\n",
       "<table border=\"1\" class=\"dataframe\">\n",
       "  <thead>\n",
       "    <tr style=\"text-align: right;\">\n",
       "      <th></th>\n",
       "      <th>Prompt</th>\n",
       "      <th>Intent</th>\n",
       "    </tr>\n",
       "  </thead>\n",
       "  <tbody>\n",
       "    <tr>\n",
       "      <th>0</th>\n",
       "      <td>I'm looking to book a single room in Orlando f...</td>\n",
       "      <td>MAKE_RESERVATION</td>\n",
       "    </tr>\n",
       "    <tr>\n",
       "      <th>1</th>\n",
       "      <td>Can I reserve a suite in New York from Decembe...</td>\n",
       "      <td>MAKE_RESERVATION</td>\n",
       "    </tr>\n",
       "    <tr>\n",
       "      <th>2</th>\n",
       "      <td>I'd like to change my reservation from a doubl...</td>\n",
       "      <td>MODIFY_RESERVATION</td>\n",
       "    </tr>\n",
       "    <tr>\n",
       "      <th>3</th>\n",
       "      <td>Is it possible to cancel my booking for the we...</td>\n",
       "      <td>CANCEL_RESERVATION</td>\n",
       "    </tr>\n",
       "    <tr>\n",
       "      <th>4</th>\n",
       "      <td>Do you have any available rooms with a sea vie...</td>\n",
       "      <td>CHECK_AVAILABILITY</td>\n",
       "    </tr>\n",
       "  </tbody>\n",
       "</table>\n",
       "</div>"
      ],
      "text/plain": [
       "                                              Prompt              Intent\n",
       "0  I'm looking to book a single room in Orlando f...    MAKE_RESERVATION\n",
       "1  Can I reserve a suite in New York from Decembe...    MAKE_RESERVATION\n",
       "2  I'd like to change my reservation from a doubl...  MODIFY_RESERVATION\n",
       "3  Is it possible to cancel my booking for the we...  CANCEL_RESERVATION\n",
       "4  Do you have any available rooms with a sea vie...  CHECK_AVAILABILITY"
      ]
     },
     "execution_count": 13,
     "metadata": {},
     "output_type": "execute_result"
    }
   ],
   "source": [
    "examples = pd.read_csv('./DATA/hotel_reservation_prompts.csv')\n",
    "examples.head()"
   ]
  },
  {
   "cell_type": "code",
   "execution_count": 14,
   "id": "7602708f-3523-4771-b2c4-a89de7d5e7f3",
   "metadata": {},
   "outputs": [],
   "source": [
    "template = \"You are a helpful assistant that can detect intent from a user's query\"\n",
    "system_message_prompt = SystemMessagePromptTemplate.from_template(template)\n",
    "messages.append(system_message_prompt)"
   ]
  },
  {
   "cell_type": "code",
   "execution_count": 15,
   "id": "21e08ee5-cec9-45cf-98a2-1f8a98e52649",
   "metadata": {},
   "outputs": [],
   "source": [
    "for _, row in examples.iterrows():\n",
    "    prompt, intent = row\n",
    "    human_message = HumanMessagePromptTemplate.from_template(prompt)\n",
    "    messages.append(human_message)\n",
    "    intent_message = AIMessagePromptTemplate.from_template(intent)\n",
    "    messages.append(intent_message)"
   ]
  },
  {
   "cell_type": "code",
   "execution_count": 16,
   "id": "7f3ba05b-de9c-4d18-bdbe-238aab760b43",
   "metadata": {},
   "outputs": [
    {
     "data": {
      "text/plain": [
       "[SystemMessagePromptTemplate(prompt=PromptTemplate(input_variables=[], output_parser=None, partial_variables={}, template=\"You are a helpful assistant that can detect intent from a user's query\", template_format='f-string', validate_template=True), additional_kwargs={}),\n",
       " HumanMessagePromptTemplate(prompt=PromptTemplate(input_variables=[], output_parser=None, partial_variables={}, template=\"I'm looking to book a single room in Orlando for three nights starting October 5th.\", template_format='f-string', validate_template=True), additional_kwargs={}),\n",
       " AIMessagePromptTemplate(prompt=PromptTemplate(input_variables=[], output_parser=None, partial_variables={}, template='MAKE_RESERVATION', template_format='f-string', validate_template=True), additional_kwargs={}),\n",
       " HumanMessagePromptTemplate(prompt=PromptTemplate(input_variables=[], output_parser=None, partial_variables={}, template='Can I reserve a suite in New York from December 1st to the 5th?', template_format='f-string', validate_template=True), additional_kwargs={}),\n",
       " AIMessagePromptTemplate(prompt=PromptTemplate(input_variables=[], output_parser=None, partial_variables={}, template='MAKE_RESERVATION', template_format='f-string', validate_template=True), additional_kwargs={}),\n",
       " HumanMessagePromptTemplate(prompt=PromptTemplate(input_variables=[], output_parser=None, partial_variables={}, template=\"I'd like to change my reservation from a double room to a suite.\", template_format='f-string', validate_template=True), additional_kwargs={}),\n",
       " AIMessagePromptTemplate(prompt=PromptTemplate(input_variables=[], output_parser=None, partial_variables={}, template='MODIFY_RESERVATION', template_format='f-string', validate_template=True), additional_kwargs={}),\n",
       " HumanMessagePromptTemplate(prompt=PromptTemplate(input_variables=[], output_parser=None, partial_variables={}, template='Is it possible to cancel my booking for the weekend?', template_format='f-string', validate_template=True), additional_kwargs={}),\n",
       " AIMessagePromptTemplate(prompt=PromptTemplate(input_variables=[], output_parser=None, partial_variables={}, template='CANCEL_RESERVATION', template_format='f-string', validate_template=True), additional_kwargs={}),\n",
       " HumanMessagePromptTemplate(prompt=PromptTemplate(input_variables=[], output_parser=None, partial_variables={}, template='Do you have any available rooms with a sea view from November 20th to the 25th?', template_format='f-string', validate_template=True), additional_kwargs={}),\n",
       " AIMessagePromptTemplate(prompt=PromptTemplate(input_variables=[], output_parser=None, partial_variables={}, template='CHECK_AVAILABILITY', template_format='f-string', validate_template=True), additional_kwargs={}),\n",
       " HumanMessagePromptTemplate(prompt=PromptTemplate(input_variables=[], output_parser=None, partial_variables={}, template='I want to extend my stay by two more nights. Is that possible?', template_format='f-string', validate_template=True), additional_kwargs={}),\n",
       " AIMessagePromptTemplate(prompt=PromptTemplate(input_variables=[], output_parser=None, partial_variables={}, template='EXTEND_RESERVATION', template_format='f-string', validate_template=True), additional_kwargs={}),\n",
       " HumanMessagePromptTemplate(prompt=PromptTemplate(input_variables=[], output_parser=None, partial_variables={}, template='How much is it for a deluxe room for two nights in San Francisco?', template_format='f-string', validate_template=True), additional_kwargs={}),\n",
       " AIMessagePromptTemplate(prompt=PromptTemplate(input_variables=[], output_parser=None, partial_variables={}, template='INQUIRE_RATE', template_format='f-string', validate_template=True), additional_kwargs={}),\n",
       " HumanMessagePromptTemplate(prompt=PromptTemplate(input_variables=[], output_parser=None, partial_variables={}, template='I have a reservation under the name Smith for next week. Can you confirm that?', template_format='f-string', validate_template=True), additional_kwargs={}),\n",
       " AIMessagePromptTemplate(prompt=PromptTemplate(input_variables=[], output_parser=None, partial_variables={}, template='CONFIRM_RESERVATION', template_format='f-string', validate_template=True), additional_kwargs={}),\n",
       " HumanMessagePromptTemplate(prompt=PromptTemplate(input_variables=[], output_parser=None, partial_variables={}, template=\"I'm interested in any promotions or discounts for a week-long stay in December.\", template_format='f-string', validate_template=True), additional_kwargs={}),\n",
       " AIMessagePromptTemplate(prompt=PromptTemplate(input_variables=[], output_parser=None, partial_variables={}, template='INQUIRE_PROMOTIONS', template_format='f-string', validate_template=True), additional_kwargs={}),\n",
       " HumanMessagePromptTemplate(prompt=PromptTemplate(input_variables=[], output_parser=None, partial_variables={}, template='Can I add an extra bed to my room reservation for the weekend?', template_format='f-string', validate_template=True), additional_kwargs={}),\n",
       " AIMessagePromptTemplate(prompt=PromptTemplate(input_variables=[], output_parser=None, partial_variables={}, template='MODIFY_RESERVATION', template_format='f-string', validate_template=True), additional_kwargs={})]"
      ]
     },
     "execution_count": 16,
     "metadata": {},
     "output_type": "execute_result"
    }
   ],
   "source": [
    "messages"
   ]
  },
  {
   "cell_type": "code",
   "execution_count": 17,
   "id": "6116d0f1-47e0-4282-a5c2-d0ae7317b209",
   "metadata": {},
   "outputs": [],
   "source": [
    "human_template = \"{user_query}\"\n",
    "human_message = HumanMessagePromptTemplate.from_template(human_template)\n",
    "messages.append(human_message)"
   ]
  },
  {
   "cell_type": "code",
   "execution_count": 22,
   "id": "c019cd85-539a-4030-ba83-0db73701aa69",
   "metadata": {},
   "outputs": [],
   "source": [
    "chat_prompt = ChatPromptTemplate.from_messages(messages)"
   ]
  },
  {
   "cell_type": "code",
   "execution_count": 23,
   "id": "36b160c9-33f5-4978-85f8-1d049922dab6",
   "metadata": {},
   "outputs": [
    {
     "name": "stderr",
     "output_type": "stream",
     "text": [
      "[SystemMessage(content=\"You are a helpful assistant that can detect intent from a user's query\", additional_kwargs={}), HumanMessage(content=\"I'm looking to book a single room in Orlando for three nights starting October 5th.\", additional_kwargs={}, example=False), AIMessage(content='MAKE_RESERVATION', additional_kwargs={}, example=False), HumanMessage(content='Can I reserve a suite in New York from December 1st to the 5th?', additional_kwargs={}, example=False), AIMessage(content='MAKE_RESERVATION', additional_kwargs={}, example=False), HumanMessage(content=\"I'd like to change my reservation from a double room to a suite.\", additional_kwargs={}, example=False), AIMessage(content='MODIFY_RESERVATION', additional_kwargs={}, example=False), HumanMessage(content='Is it possible to cancel my booking for the weekend?', additional_kwargs={}, example=False), AIMessage(content='CANCEL_RESERVATION', additional_kwargs={}, example=False), HumanMessage(content='Do you have any available rooms with a sea view from November 20th to the 25th?', additional_kwargs={}, example=False), AIMessage(content='CHECK_AVAILABILITY', additional_kwargs={}, example=False), HumanMessage(content='I want to extend my stay by two more nights. Is that possible?', additional_kwargs={}, example=False), AIMessage(content='EXTEND_RESERVATION', additional_kwargs={}, example=False), HumanMessage(content='How much is it for a deluxe room for two nights in San Francisco?', additional_kwargs={}, example=False), AIMessage(content='INQUIRE_RATE', additional_kwargs={}, example=False), HumanMessage(content='I have a reservation under the name Smith for next week. Can you confirm that?', additional_kwargs={}, example=False), AIMessage(content='CONFIRM_RESERVATION', additional_kwargs={}, example=False), HumanMessage(content=\"I'm interested in any promotions or discounts for a week-long stay in December.\", additional_kwargs={}, example=False), AIMessage(content='INQUIRE_PROMOTIONS', additional_kwargs={}, example=False), HumanMessage(content='Can I add an extra bed to my room reservation for the weekend?', additional_kwargs={}, example=False), AIMessage(content='MODIFY_RESERVATION', additional_kwargs={}, example=False), HumanMessage(content='I would like to make a reservation in Miami for four nights from September 23rd to the 28th. What are my options?', additional_kwargs={}, example=False)]\n"
     ]
    }
   ],
   "source": [
    "user_query = \"I would like to make a reservation in Miami for four nights from September 23rd to the 28th. What are my options?\"\n",
    "request = chat_prompt.format_prompt(user_query=user_query).to_messages()\n",
    "logger.info(request)"
   ]
  },
  {
   "cell_type": "code",
   "execution_count": 24,
   "id": "06dd43b3-d705-4637-8721-44f23cfc3d75",
   "metadata": {},
   "outputs": [
    {
     "name": "stdout",
     "output_type": "stream",
     "text": [
      "CPU times: user 7.7 ms, sys: 7.47 ms, total: 15.2 ms\n",
      "Wall time: 563 ms\n"
     ]
    }
   ],
   "source": [
    "%%time \n",
    "\n",
    "response = llm(request)"
   ]
  },
  {
   "cell_type": "code",
   "execution_count": 25,
   "id": "a43b774f-0a96-40d0-96b4-70580f263c57",
   "metadata": {},
   "outputs": [
    {
     "name": "stderr",
     "output_type": "stream",
     "text": [
      "MAKE_RESERVATION\n"
     ]
    }
   ],
   "source": [
    "logger.info(response.content.strip())"
   ]
  },
  {
   "cell_type": "code",
   "execution_count": null,
   "id": "051fc3ef-02d5-410b-9834-16eb1225396b",
   "metadata": {},
   "outputs": [],
   "source": []
  }
 ],
 "metadata": {
  "environment": {
   "kernel": "python3",
   "name": "common-cpu.m110",
   "type": "gcloud",
   "uri": "gcr.io/deeplearning-platform-release/base-cpu:m110"
  },
  "kernelspec": {
   "display_name": "Python 3",
   "language": "python",
   "name": "python3"
  },
  "language_info": {
   "codemirror_mode": {
    "name": "ipython",
    "version": 3
   },
   "file_extension": ".py",
   "mimetype": "text/x-python",
   "name": "python",
   "nbconvert_exporter": "python",
   "pygments_lexer": "ipython3",
   "version": "3.10.12"
  }
 },
 "nbformat": 4,
 "nbformat_minor": 5
}
