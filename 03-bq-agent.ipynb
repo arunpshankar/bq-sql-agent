{
 "cells": [
  {
   "cell_type": "markdown",
   "metadata": {},
   "source": [
    "## BigQuery Agent"
   ]
  },
  {
   "cell_type": "markdown",
   "metadata": {},
   "source": [
    "#### Imports "
   ]
  },
  {
   "cell_type": "code",
   "execution_count": 1,
   "metadata": {},
   "outputs": [],
   "source": [
    "# Langchain specific imports\n",
    "from langchain.agents.agent_toolkits import SQLDatabaseToolkit\n",
    "from langchain.chat_models import ChatVertexAI\n",
    "from langchain.sql_database import SQLDatabase\n",
    "from langchain.agents import create_sql_agent\n",
    "from langchain.agents import AgentExecutor\n",
    "\n",
    "import langchain\n",
    "\n",
    "# Other imports\n",
    "from sqlalchemy.engine import create_engine\n",
    "from urllib.parse import quote_plus\n",
    "from google.cloud import bigquery\n",
    "import pkg_resources\n",
    "import sqlalchemy\n",
    "import pybigquery\n",
    "import logging\n",
    "import pyodbc\n",
    "import os "
   ]
  },
  {
   "cell_type": "markdown",
   "metadata": {},
   "source": [
    "##### Setup logging"
   ]
  },
  {
   "cell_type": "code",
   "execution_count": 2,
   "metadata": {},
   "outputs": [],
   "source": [
    "logger = logging.getLogger(__name__)\n",
    "logger.setLevel(logging.INFO)\n",
    "logger.addHandler(logging.StreamHandler())"
   ]
  },
  {
   "cell_type": "markdown",
   "metadata": {},
   "source": [
    "##### Log dependencies "
   ]
  },
  {
   "cell_type": "code",
   "execution_count": 3,
   "metadata": {},
   "outputs": [
    {
     "name": "stderr",
     "output_type": "stream",
     "text": [
      "Using langchain==0.0.283\n",
      "Using pyodbc==4.0.34\n",
      "Using sqlalchemy==1.4.39\n",
      "Using pybigquery==0.10.2\n"
     ]
    }
   ],
   "source": [
    "logger.info(f'Using langchain=={langchain.__version__}')\n",
    "logger.info(f\"Using pyodbc=={pkg_resources.get_distribution('pyodbc').version}\")\n",
    "logger.info(f'Using sqlalchemy=={sqlalchemy.__version__}')\n",
    "logger.info(f\"Using pybigquery=={pkg_resources.get_distribution('pybigquery').version}\")\n"
   ]
  },
  {
   "cell_type": "markdown",
   "metadata": {},
   "source": [
    "#### Essentials"
   ]
  },
  {
   "cell_type": "markdown",
   "metadata": {},
   "source": [
    "In order to use LangChain or PyODBC to talk to databases directly - ensure the correct and respective drivers are installed in your work machine. \n",
    "\n",
    "For MS SQL:\n",
    "https://learn.microsoft.com/en-us/sql/connect/odbc/linux-mac/install-microsoft-odbc-driver-sql-server-macos?view=sql-server-ver15 <br><br>\n",
    "\n",
    "For BigQuery:<br>\n",
    "-- Landing Page<br>\n",
    "https://cloud.google.com/bigquery/docs/reference/odbc-jdbc-drivers<br>\n",
    "-- Install ODBC release 2.5.2.1004<br>\n",
    "https://cloud.google.com/bigquery/docs/reference/odbc-jdbc-drivers#odbc_release_2521004<br>\n",
    "-- Congifuration Guide <br>\n",
    "https://storage.googleapis.com/simba-bq-release/odbc/Simba%20Google%20BigQuery%20ODBC%20Connector%20Install%20and%20Configuration%20Guide-2.5.2.1004.pdf<br>\n",
    "\n"
   ]
  },
  {
   "cell_type": "code",
   "execution_count": 4,
   "metadata": {},
   "outputs": [],
   "source": [
    "PROJECT = 'arun-genai-bb'\n",
    "LOCATION = 'us-central1'\n",
    "MODEL_NAME = 'chat-bison'\n",
    "DATASET = 'hotel_reservations'\n",
    "SERVICE_ACCOUNT_KEY_PATH = './credentials/vai-key.json'\n",
    "os.environ['GOOGLE_APPLICATION_CREDENTIALS'] = SERVICE_ACCOUNT_KEY_PATH\n",
    "SERVICE_ACCOUNT_KEY_PATH_ABS = os.path.abspath(SERVICE_ACCOUNT_KEY_PATH)\n",
    "SERVICE_ACCOUNT_EMAIL = 'as-service@arun-genai-bb.iam.gserviceaccount.com'  # Can be found in the service account JSON key above\n",
    "OAUTH_FLAG = 0 # 0 means we are using the service account credentials key for auth and 1 means we are using a refresh token \n",
    "CATALOG = 'arun-genai-bb'  # same as project name \n",
    "DRIVER_PATH_ABS = '/Library/simba/googlebigqueryodbc/lib/libgooglebigqueryodbc_sbu.dylib'\n",
    "EMAIL = 'as-service@arun-genai-bb.iam.gserviceaccount.com'"
   ]
  },
  {
   "cell_type": "markdown",
   "metadata": {},
   "source": [
    "#### Establish ODBC connection "
   ]
  },
  {
   "cell_type": "markdown",
   "metadata": {},
   "source": [
    "Option 1: Establishing connection using PyODBC directly"
   ]
  },
  {
   "cell_type": "code",
   "execution_count": 5,
   "metadata": {},
   "outputs": [
    {
     "name": "stderr",
     "output_type": "stream",
     "text": [
      "Driver=/Library/simba/googlebigqueryodbc/lib/libgooglebigqueryodbc_sbu.dylib;Catalog=arun-genai-bb;Dataset=hotel_reservations;KeyFilePath=/Users/arunpshankar/Desktop/Projects/bq-sql-agent/credentials/vai-key.json;OAuthMechanism=0;Email=as-service@arun-genai-bb.iam.gserviceaccount.com\n"
     ]
    },
    {
     "data": {
      "text/plain": [
       "<pyodbc.Connection at 0x11f756e30>"
      ]
     },
     "execution_count": 5,
     "metadata": {},
     "output_type": "execute_result"
    }
   ],
   "source": [
    "connection_string = f'Driver={DRIVER_PATH_ABS};Catalog={CATALOG};Dataset={DATASET};KeyFilePath={SERVICE_ACCOUNT_KEY_PATH_ABS};OAuthMechanism={OAUTH_FLAG};Email={EMAIL}'\n",
    "logger.info(connection_string)\n",
    "connection = pyodbc.connect(connection_string)\n",
    "connection"
   ]
  },
  {
   "cell_type": "markdown",
   "metadata": {},
   "source": [
    "Option 2: Using LangChain"
   ]
  },
  {
   "cell_type": "code",
   "execution_count": 6,
   "metadata": {},
   "outputs": [
    {
     "name": "stderr",
     "output_type": "stream",
     "text": [
      "SQLALCHEMY_URI=bigquery://arun-genai-bb/hotel_reservations?KeyFilePath=%2FUsers%2Farunpshankar%2FDesktop%2FProjects%2Fbq-sql-agent%2Fcredentials%2Fvai-key.json&Driver=%2FLibrary%2Fsimba%2Fgooglebigqueryodbc%2Flib%2Flibgooglebigqueryodbc_sbu.dylib&OAuthMechanism=0&Catalog=arun-genai-bb&Dataset=hotel_reservations&Email=as-service@arun-genai-bb.iam.gserviceaccount.com\n"
     ]
    }
   ],
   "source": [
    "params = {\n",
    "    'KeyFilePath': quote_plus(SERVICE_ACCOUNT_KEY_PATH_ABS),\n",
    "    'Driver': quote_plus(DRIVER_PATH_ABS),\n",
    "    'OAuthMechanism': OAUTH_FLAG,\n",
    "    'Catalog': CATALOG,\n",
    "    'Dataset': DATASET,\n",
    "    'Email': EMAIL,\n",
    "}\n",
    "\n",
    "SQLALCHEMY_URI = f\"bigquery://{PROJECT}/{DATASET}?{'&'.join(f'{k}={v}' for k, v in params.items())}\"\n",
    "logger.info(f'SQLALCHEMY_URI={SQLALCHEMY_URI}')"
   ]
  },
  {
   "cell_type": "code",
   "execution_count": 7,
   "metadata": {},
   "outputs": [],
   "source": [
    "db = SQLDatabase.from_uri(SQLALCHEMY_URI)"
   ]
  },
  {
   "cell_type": "code",
   "execution_count": 8,
   "metadata": {},
   "outputs": [
    {
     "data": {
      "text/plain": [
       "{'_engine': Engine(bigquery://arun-genai-bb/hotel_reservations?Catalog=arun-genai-bb&Dataset=hotel_reservations&Driver=%2FLibrary%2Fsimba%2Fgooglebigqueryodbc%2Flib%2Flibgooglebigqueryodbc_sbu.dylib&Email=as-service%40arun-genai-bb.iam.gserviceaccount.com&KeyFilePath=%2FUsers%2Farunpshankar%2FDesktop%2FProjects%2Fbq-sql-agent%2Fcredentials%2Fvai-key.json&OAuthMechanism=0),\n",
       " '_schema': None,\n",
       " '_inspector': <sqlalchemy.engine.reflection.Inspector at 0x11f7f8490>,\n",
       " '_all_tables': {'hotels', 'reservations', 'rooms', 'users'},\n",
       " '_include_tables': set(),\n",
       " '_ignore_tables': set(),\n",
       " '_usable_tables': {'hotels', 'reservations', 'rooms', 'users'},\n",
       " '_sample_rows_in_table_info': 3,\n",
       " '_indexes_in_table_info': False,\n",
       " '_custom_table_info': None,\n",
       " '_max_string_length': 300,\n",
       " '_metadata': MetaData()}"
      ]
     },
     "execution_count": 8,
     "metadata": {},
     "output_type": "execute_result"
    }
   ],
   "source": [
    "db.__dict__"
   ]
  },
  {
   "cell_type": "markdown",
   "metadata": {},
   "source": [
    "List all installed drivers "
   ]
  },
  {
   "cell_type": "code",
   "execution_count": 9,
   "metadata": {},
   "outputs": [
    {
     "data": {
      "text/plain": [
       "['ODBC Driver 18 for SQL Server',\n",
       " 'ODBC Driver 13 for SQL Server',\n",
       " 'ODBC Drivers',\n",
       " 'Simba GoogleBigQuery ODBC Driver']"
      ]
     },
     "execution_count": 9,
     "metadata": {},
     "output_type": "execute_result"
    }
   ],
   "source": [
    "pyodbc.drivers()"
   ]
  },
  {
   "cell_type": "markdown",
   "metadata": {},
   "source": [
    "Setup LLM"
   ]
  },
  {
   "cell_type": "code",
   "execution_count": 10,
   "metadata": {},
   "outputs": [],
   "source": [
    "llm = ChatVertexAI(project=PROJECT, \n",
    "                   location=LOCATION, \n",
    "                   model_name=MODEL_NAME,\n",
    "                   temperature=0.0, \n",
    "                   max_output_tokens=256)"
   ]
  },
  {
   "cell_type": "markdown",
   "metadata": {},
   "source": [
    "Setup toolkit"
   ]
  },
  {
   "cell_type": "code",
   "execution_count": 11,
   "metadata": {},
   "outputs": [
    {
     "data": {
      "text/plain": [
       "{'db': <langchain.utilities.sql_database.SQLDatabase at 0x11f4cb970>,\n",
       " 'llm': ChatVertexAI(cache=None, verbose=False, callbacks=None, callback_manager=None, tags=None, metadata=None, project='arun-genai-bb', location='us-central1', request_parallelism=5, max_retries=6, stop=None, model_name='chat-bison', client=<vertexai.preview.language_models._PreviewChatModel object at 0x11f89a2b0>, temperature=0.0, max_output_tokens=256, top_p=0.95, top_k=40, credentials=None)}"
      ]
     },
     "execution_count": 11,
     "metadata": {},
     "output_type": "execute_result"
    }
   ],
   "source": [
    "toolkit = SQLDatabaseToolkit(db=db, llm=llm)\n",
    "toolkit.__dict__"
   ]
  },
  {
   "cell_type": "markdown",
   "metadata": {},
   "source": [
    "#### Create SQL Agent"
   ]
  },
  {
   "cell_type": "code",
   "execution_count": 12,
   "metadata": {},
   "outputs": [
    {
     "data": {
      "text/plain": [
       "{'memory': None,\n",
       " 'callbacks': None,\n",
       " 'callback_manager': None,\n",
       " 'verbose': True,\n",
       " 'tags': None,\n",
       " 'metadata': None,\n",
       " 'agent': ZeroShotAgent(llm_chain=LLMChain(memory=None, callbacks=None, callback_manager=None, verbose=False, tags=None, metadata=None, prompt=PromptTemplate(input_variables=['input', 'agent_scratchpad'], output_parser=None, partial_variables={}, template='You are an agent designed to interact with a SQL database.\\nGiven an input question, create a syntactically correct bigquery query to run, then look at the results of the query and return the answer.\\nUnless the user specifies a specific number of examples they wish to obtain, always limit your query to at most 1000 results.\\nYou can order the results by a relevant column to return the most interesting examples in the database.\\nNever query for all the columns from a specific table, only ask for the relevant columns given the question.\\nYou have access to tools for interacting with the database.\\nOnly use the below tools. Only use the information returned by the below tools to construct your final answer.\\nYou MUST double check your query before executing it. If you get an error while executing a query, rewrite the query and try again.\\n\\nDO NOT make any DML statements (INSERT, UPDATE, DELETE, DROP etc.) to the database.\\n\\nIf the question does not seem related to the database, just return \"I don\\'t know\" as the answer.\\n\\n\\nsql_db_query: Input to this tool is a detailed and correct SQL query, output is a result from the database. If the query is not correct, an error message will be returned. If an error is returned, rewrite the query, check the query, and try again. If you encounter an issue with Unknown column \\'xxxx\\' in \\'field list\\', using sql_db_schema to query the correct table fields.\\nsql_db_schema: Input to this tool is a comma-separated list of tables, output is the schema and sample rows for those tables. Be sure that the tables actually exist by calling sql_db_list_tables first! Example Input: \\'table1, table2, table3\\'\\nsql_db_list_tables: Input is an empty string, output is a comma separated list of tables in the database.\\nsql_db_query_checker: Use this tool to double check if your query is correct before executing it. Always use this tool before executing a query with sql_db_query!\\n\\nUse the following format:\\n\\nQuestion: the input question you must answer\\nThought: you should always think about what to do\\nAction: the action to take, should be one of [sql_db_query, sql_db_schema, sql_db_list_tables, sql_db_query_checker]\\nAction Input: the input to the action\\nObservation: the result of the action\\n... (this Thought/Action/Action Input/Observation can repeat N times)\\nThought: I now know the final answer\\nFinal Answer: the final answer to the original input question\\n\\nBegin!\\n\\nQuestion: {input}\\nThought: I should look at the tables in the database to see what I can query.  Then I should query the schema of the most relevant tables.\\n{agent_scratchpad}', template_format='f-string', validate_template=True), llm=ChatVertexAI(cache=None, verbose=False, callbacks=None, callback_manager=None, tags=None, metadata=None, project='arun-genai-bb', location='us-central1', request_parallelism=5, max_retries=6, stop=None, model_name='chat-bison', client=<vertexai.preview.language_models._PreviewChatModel object at 0x11f89a2b0>, temperature=0.0, max_output_tokens=256, top_p=0.95, top_k=40, credentials=None), output_key='text', output_parser=StrOutputParser(), return_final_only=True, llm_kwargs={}), output_parser=MRKLOutputParser(), allowed_tools=['sql_db_query', 'sql_db_schema', 'sql_db_list_tables', 'sql_db_query_checker']),\n",
       " 'tools': [QuerySQLDataBaseTool(name='sql_db_query', description=\"Input to this tool is a detailed and correct SQL query, output is a result from the database. If the query is not correct, an error message will be returned. If an error is returned, rewrite the query, check the query, and try again. If you encounter an issue with Unknown column 'xxxx' in 'field list', using sql_db_schema to query the correct table fields.\", args_schema=None, return_direct=False, verbose=False, callbacks=None, callback_manager=None, tags=None, metadata=None, handle_tool_error=False, db=<langchain.utilities.sql_database.SQLDatabase object at 0x11f4cb970>),\n",
       "  InfoSQLDatabaseTool(name='sql_db_schema', description=\"Input to this tool is a comma-separated list of tables, output is the schema and sample rows for those tables. Be sure that the tables actually exist by calling sql_db_list_tables first! Example Input: 'table1, table2, table3'\", args_schema=None, return_direct=False, verbose=False, callbacks=None, callback_manager=None, tags=None, metadata=None, handle_tool_error=False, db=<langchain.utilities.sql_database.SQLDatabase object at 0x11f4cb970>),\n",
       "  ListSQLDatabaseTool(name='sql_db_list_tables', description='Input is an empty string, output is a comma separated list of tables in the database.', args_schema=None, return_direct=False, verbose=False, callbacks=None, callback_manager=None, tags=None, metadata=None, handle_tool_error=False, db=<langchain.utilities.sql_database.SQLDatabase object at 0x11f4cb970>),\n",
       "  QuerySQLCheckerTool(name='sql_db_query_checker', description='Use this tool to double check if your query is correct before executing it. Always use this tool before executing a query with sql_db_query!', args_schema=None, return_direct=False, verbose=False, callbacks=None, callback_manager=None, tags=None, metadata=None, handle_tool_error=False, db=<langchain.utilities.sql_database.SQLDatabase object at 0x11f4cb970>, template='\\n{query}\\nDouble check the {dialect} query above for common mistakes, including:\\n- Using NOT IN with NULL values\\n- Using UNION when UNION ALL should have been used\\n- Using BETWEEN for exclusive ranges\\n- Data type mismatch in predicates\\n- Properly quoting identifiers\\n- Using the correct number of arguments for functions\\n- Casting to the correct data type\\n- Using the proper columns for joins\\n\\nIf there are any of the above mistakes, rewrite the query. If there are no mistakes, just reproduce the original query.\\n\\nOutput the final SQL query only.\\n\\nSQL Query: ', llm=ChatVertexAI(cache=None, verbose=False, callbacks=None, callback_manager=None, tags=None, metadata=None, project='arun-genai-bb', location='us-central1', request_parallelism=5, max_retries=6, stop=None, model_name='chat-bison', client=<vertexai.preview.language_models._PreviewChatModel object at 0x11f89a2b0>, temperature=0.0, max_output_tokens=256, top_p=0.95, top_k=40, credentials=None), llm_chain=LLMChain(memory=None, callbacks=None, callback_manager=None, verbose=False, tags=None, metadata=None, prompt=PromptTemplate(input_variables=['query', 'dialect'], output_parser=None, partial_variables={}, template='\\n{query}\\nDouble check the {dialect} query above for common mistakes, including:\\n- Using NOT IN with NULL values\\n- Using UNION when UNION ALL should have been used\\n- Using BETWEEN for exclusive ranges\\n- Data type mismatch in predicates\\n- Properly quoting identifiers\\n- Using the correct number of arguments for functions\\n- Casting to the correct data type\\n- Using the proper columns for joins\\n\\nIf there are any of the above mistakes, rewrite the query. If there are no mistakes, just reproduce the original query.\\n\\nOutput the final SQL query only.\\n\\nSQL Query: ', template_format='f-string', validate_template=True), llm=ChatVertexAI(cache=None, verbose=False, callbacks=None, callback_manager=None, tags=None, metadata=None, project='arun-genai-bb', location='us-central1', request_parallelism=5, max_retries=6, stop=None, model_name='chat-bison', client=<vertexai.preview.language_models._PreviewChatModel object at 0x11f89a2b0>, temperature=0.0, max_output_tokens=256, top_p=0.95, top_k=40, credentials=None), output_key='text', output_parser=StrOutputParser(), return_final_only=True, llm_kwargs={}))],\n",
       " 'return_intermediate_steps': False,\n",
       " 'max_iterations': 15,\n",
       " 'max_execution_time': None,\n",
       " 'early_stopping_method': 'force',\n",
       " 'handle_parsing_errors': False,\n",
       " 'trim_intermediate_steps': -1}"
      ]
     },
     "execution_count": 12,
     "metadata": {},
     "output_type": "execute_result"
    }
   ],
   "source": [
    "agent_executor = create_sql_agent(llm=llm, \n",
    "                                  toolkit=toolkit, \n",
    "                                  verbose=True, \n",
    "                                  top_k=1000  # max number of retrieved rows\n",
    "                                  )\n",
    "agent_executor.__dict__"
   ]
  },
  {
   "cell_type": "markdown",
   "metadata": {},
   "source": [
    "#### Run & Test Query"
   ]
  },
  {
   "cell_type": "code",
   "execution_count": 13,
   "metadata": {},
   "outputs": [
    {
     "name": "stdout",
     "output_type": "stream",
     "text": [
      "\n",
      "\n",
      "\u001b[1m> Entering new AgentExecutor chain...\u001b[0m\n",
      "\u001b[32;1m\u001b[1;3m Action: sql_db_list_tables\n",
      "Action Input: \u001b[0m\n",
      "Observation: \u001b[38;5;200m\u001b[1;3mhotels, reservations, rooms, users\u001b[0m\n",
      "Thought:\u001b[32;1m\u001b[1;3m Action: sql_db_schema\n",
      "Action Input: rooms\u001b[0m"
     ]
    },
    {
     "name": "stderr",
     "output_type": "stream",
     "text": [
      "/Users/arunpshankar/Desktop/Projects/bq-sql-agent/.venv/lib/python3.9/site-packages/langchain/utilities/sql_database.py:351: SAWarning: Dialect bigquery:bigquery will not make use of SQL compilation caching as it does not set the 'supports_statement_cache' attribute to ``True``.  This can have significant performance implications including some performance degradations in comparison to prior SQLAlchemy versions.  Dialect maintainers should seek to set this attribute to True after appropriate development and testing for SQLAlchemy 1.4 caching support.   Alternatively, this attribute may be set to False which will disable this warning. (Background on this error at: https://sqlalche.me/e/14/cprf)\n",
      "  sample_rows_result = connection.execute(command)  # type: ignore\n"
     ]
    },
    {
     "ename": "ImportError",
     "evalue": "pyarrow is required to parse ReadRowResponse messages with Arrow bytes.",
     "output_type": "error",
     "traceback": [
      "\u001b[0;31m---------------------------------------------------------------------------\u001b[0m",
      "\u001b[0;31mImportError\u001b[0m                               Traceback (most recent call last)",
      "\u001b[1;32m/Users/arunpshankar/Desktop/Projects/bq-sql-agent/03-bq-agent.ipynb Cell 27\u001b[0m line \u001b[0;36m1\n\u001b[0;32m----> <a href='vscode-notebook-cell:/Users/arunpshankar/Desktop/Projects/bq-sql-agent/03-bq-agent.ipynb#X31sZmlsZQ%3D%3D?line=0'>1</a>\u001b[0m agent_executor\u001b[39m.\u001b[39;49mrun(\u001b[39m\"\u001b[39;49m\u001b[39mFind the vailability of rooms in Miami. Table names are `hotels`, `rooms` and `reservations`.\u001b[39;49m\u001b[39m\"\u001b[39;49m)\n",
      "File \u001b[0;32m~/Desktop/Projects/bq-sql-agent/.venv/lib/python3.9/site-packages/langchain/chains/base.py:487\u001b[0m, in \u001b[0;36mChain.run\u001b[0;34m(self, callbacks, tags, metadata, *args, **kwargs)\u001b[0m\n\u001b[1;32m    485\u001b[0m     \u001b[39mif\u001b[39;00m \u001b[39mlen\u001b[39m(args) \u001b[39m!=\u001b[39m \u001b[39m1\u001b[39m:\n\u001b[1;32m    486\u001b[0m         \u001b[39mraise\u001b[39;00m \u001b[39mValueError\u001b[39;00m(\u001b[39m\"\u001b[39m\u001b[39m`run` supports only one positional argument.\u001b[39m\u001b[39m\"\u001b[39m)\n\u001b[0;32m--> 487\u001b[0m     \u001b[39mreturn\u001b[39;00m \u001b[39mself\u001b[39;49m(args[\u001b[39m0\u001b[39;49m], callbacks\u001b[39m=\u001b[39;49mcallbacks, tags\u001b[39m=\u001b[39;49mtags, metadata\u001b[39m=\u001b[39;49mmetadata)[\n\u001b[1;32m    488\u001b[0m         _output_key\n\u001b[1;32m    489\u001b[0m     ]\n\u001b[1;32m    491\u001b[0m \u001b[39mif\u001b[39;00m kwargs \u001b[39mand\u001b[39;00m \u001b[39mnot\u001b[39;00m args:\n\u001b[1;32m    492\u001b[0m     \u001b[39mreturn\u001b[39;00m \u001b[39mself\u001b[39m(kwargs, callbacks\u001b[39m=\u001b[39mcallbacks, tags\u001b[39m=\u001b[39mtags, metadata\u001b[39m=\u001b[39mmetadata)[\n\u001b[1;32m    493\u001b[0m         _output_key\n\u001b[1;32m    494\u001b[0m     ]\n",
      "File \u001b[0;32m~/Desktop/Projects/bq-sql-agent/.venv/lib/python3.9/site-packages/langchain/chains/base.py:292\u001b[0m, in \u001b[0;36mChain.__call__\u001b[0;34m(self, inputs, return_only_outputs, callbacks, tags, metadata, run_name, include_run_info)\u001b[0m\n\u001b[1;32m    290\u001b[0m \u001b[39mexcept\u001b[39;00m (\u001b[39mKeyboardInterrupt\u001b[39;00m, \u001b[39mException\u001b[39;00m) \u001b[39mas\u001b[39;00m e:\n\u001b[1;32m    291\u001b[0m     run_manager\u001b[39m.\u001b[39mon_chain_error(e)\n\u001b[0;32m--> 292\u001b[0m     \u001b[39mraise\u001b[39;00m e\n\u001b[1;32m    293\u001b[0m run_manager\u001b[39m.\u001b[39mon_chain_end(outputs)\n\u001b[1;32m    294\u001b[0m final_outputs: Dict[\u001b[39mstr\u001b[39m, Any] \u001b[39m=\u001b[39m \u001b[39mself\u001b[39m\u001b[39m.\u001b[39mprep_outputs(\n\u001b[1;32m    295\u001b[0m     inputs, outputs, return_only_outputs\n\u001b[1;32m    296\u001b[0m )\n",
      "File \u001b[0;32m~/Desktop/Projects/bq-sql-agent/.venv/lib/python3.9/site-packages/langchain/chains/base.py:286\u001b[0m, in \u001b[0;36mChain.__call__\u001b[0;34m(self, inputs, return_only_outputs, callbacks, tags, metadata, run_name, include_run_info)\u001b[0m\n\u001b[1;32m    279\u001b[0m run_manager \u001b[39m=\u001b[39m callback_manager\u001b[39m.\u001b[39mon_chain_start(\n\u001b[1;32m    280\u001b[0m     dumpd(\u001b[39mself\u001b[39m),\n\u001b[1;32m    281\u001b[0m     inputs,\n\u001b[1;32m    282\u001b[0m     name\u001b[39m=\u001b[39mrun_name,\n\u001b[1;32m    283\u001b[0m )\n\u001b[1;32m    284\u001b[0m \u001b[39mtry\u001b[39;00m:\n\u001b[1;32m    285\u001b[0m     outputs \u001b[39m=\u001b[39m (\n\u001b[0;32m--> 286\u001b[0m         \u001b[39mself\u001b[39;49m\u001b[39m.\u001b[39;49m_call(inputs, run_manager\u001b[39m=\u001b[39;49mrun_manager)\n\u001b[1;32m    287\u001b[0m         \u001b[39mif\u001b[39;00m new_arg_supported\n\u001b[1;32m    288\u001b[0m         \u001b[39melse\u001b[39;00m \u001b[39mself\u001b[39m\u001b[39m.\u001b[39m_call(inputs)\n\u001b[1;32m    289\u001b[0m     )\n\u001b[1;32m    290\u001b[0m \u001b[39mexcept\u001b[39;00m (\u001b[39mKeyboardInterrupt\u001b[39;00m, \u001b[39mException\u001b[39;00m) \u001b[39mas\u001b[39;00m e:\n\u001b[1;32m    291\u001b[0m     run_manager\u001b[39m.\u001b[39mon_chain_error(e)\n",
      "File \u001b[0;32m~/Desktop/Projects/bq-sql-agent/.venv/lib/python3.9/site-packages/langchain/agents/agent.py:1039\u001b[0m, in \u001b[0;36mAgentExecutor._call\u001b[0;34m(self, inputs, run_manager)\u001b[0m\n\u001b[1;32m   1037\u001b[0m \u001b[39m# We now enter the agent loop (until it returns something).\u001b[39;00m\n\u001b[1;32m   1038\u001b[0m \u001b[39mwhile\u001b[39;00m \u001b[39mself\u001b[39m\u001b[39m.\u001b[39m_should_continue(iterations, time_elapsed):\n\u001b[0;32m-> 1039\u001b[0m     next_step_output \u001b[39m=\u001b[39m \u001b[39mself\u001b[39;49m\u001b[39m.\u001b[39;49m_take_next_step(\n\u001b[1;32m   1040\u001b[0m         name_to_tool_map,\n\u001b[1;32m   1041\u001b[0m         color_mapping,\n\u001b[1;32m   1042\u001b[0m         inputs,\n\u001b[1;32m   1043\u001b[0m         intermediate_steps,\n\u001b[1;32m   1044\u001b[0m         run_manager\u001b[39m=\u001b[39;49mrun_manager,\n\u001b[1;32m   1045\u001b[0m     )\n\u001b[1;32m   1046\u001b[0m     \u001b[39mif\u001b[39;00m \u001b[39misinstance\u001b[39m(next_step_output, AgentFinish):\n\u001b[1;32m   1047\u001b[0m         \u001b[39mreturn\u001b[39;00m \u001b[39mself\u001b[39m\u001b[39m.\u001b[39m_return(\n\u001b[1;32m   1048\u001b[0m             next_step_output, intermediate_steps, run_manager\u001b[39m=\u001b[39mrun_manager\n\u001b[1;32m   1049\u001b[0m         )\n",
      "File \u001b[0;32m~/Desktop/Projects/bq-sql-agent/.venv/lib/python3.9/site-packages/langchain/agents/agent.py:894\u001b[0m, in \u001b[0;36mAgentExecutor._take_next_step\u001b[0;34m(self, name_to_tool_map, color_mapping, inputs, intermediate_steps, run_manager)\u001b[0m\n\u001b[1;32m    892\u001b[0m         tool_run_kwargs[\u001b[39m\"\u001b[39m\u001b[39mllm_prefix\u001b[39m\u001b[39m\"\u001b[39m] \u001b[39m=\u001b[39m \u001b[39m\"\u001b[39m\u001b[39m\"\u001b[39m\n\u001b[1;32m    893\u001b[0m     \u001b[39m# We then call the tool on the tool input to get an observation\u001b[39;00m\n\u001b[0;32m--> 894\u001b[0m     observation \u001b[39m=\u001b[39m tool\u001b[39m.\u001b[39;49mrun(\n\u001b[1;32m    895\u001b[0m         agent_action\u001b[39m.\u001b[39;49mtool_input,\n\u001b[1;32m    896\u001b[0m         verbose\u001b[39m=\u001b[39;49m\u001b[39mself\u001b[39;49m\u001b[39m.\u001b[39;49mverbose,\n\u001b[1;32m    897\u001b[0m         color\u001b[39m=\u001b[39;49mcolor,\n\u001b[1;32m    898\u001b[0m         callbacks\u001b[39m=\u001b[39;49mrun_manager\u001b[39m.\u001b[39;49mget_child() \u001b[39mif\u001b[39;49;00m run_manager \u001b[39melse\u001b[39;49;00m \u001b[39mNone\u001b[39;49;00m,\n\u001b[1;32m    899\u001b[0m         \u001b[39m*\u001b[39;49m\u001b[39m*\u001b[39;49mtool_run_kwargs,\n\u001b[1;32m    900\u001b[0m     )\n\u001b[1;32m    901\u001b[0m \u001b[39melse\u001b[39;00m:\n\u001b[1;32m    902\u001b[0m     tool_run_kwargs \u001b[39m=\u001b[39m \u001b[39mself\u001b[39m\u001b[39m.\u001b[39magent\u001b[39m.\u001b[39mtool_run_logging_kwargs()\n",
      "File \u001b[0;32m~/Desktop/Projects/bq-sql-agent/.venv/lib/python3.9/site-packages/langchain/tools/base.py:356\u001b[0m, in \u001b[0;36mBaseTool.run\u001b[0;34m(self, tool_input, verbose, start_color, color, callbacks, tags, metadata, **kwargs)\u001b[0m\n\u001b[1;32m    354\u001b[0m \u001b[39mexcept\u001b[39;00m (\u001b[39mException\u001b[39;00m, \u001b[39mKeyboardInterrupt\u001b[39;00m) \u001b[39mas\u001b[39;00m e:\n\u001b[1;32m    355\u001b[0m     run_manager\u001b[39m.\u001b[39mon_tool_error(e)\n\u001b[0;32m--> 356\u001b[0m     \u001b[39mraise\u001b[39;00m e\n\u001b[1;32m    357\u001b[0m \u001b[39melse\u001b[39;00m:\n\u001b[1;32m    358\u001b[0m     run_manager\u001b[39m.\u001b[39mon_tool_end(\n\u001b[1;32m    359\u001b[0m         \u001b[39mstr\u001b[39m(observation), color\u001b[39m=\u001b[39mcolor, name\u001b[39m=\u001b[39m\u001b[39mself\u001b[39m\u001b[39m.\u001b[39mname, \u001b[39m*\u001b[39m\u001b[39m*\u001b[39mkwargs\n\u001b[1;32m    360\u001b[0m     )\n",
      "File \u001b[0;32m~/Desktop/Projects/bq-sql-agent/.venv/lib/python3.9/site-packages/langchain/tools/base.py:328\u001b[0m, in \u001b[0;36mBaseTool.run\u001b[0;34m(self, tool_input, verbose, start_color, color, callbacks, tags, metadata, **kwargs)\u001b[0m\n\u001b[1;32m    325\u001b[0m \u001b[39mtry\u001b[39;00m:\n\u001b[1;32m    326\u001b[0m     tool_args, tool_kwargs \u001b[39m=\u001b[39m \u001b[39mself\u001b[39m\u001b[39m.\u001b[39m_to_args_and_kwargs(parsed_input)\n\u001b[1;32m    327\u001b[0m     observation \u001b[39m=\u001b[39m (\n\u001b[0;32m--> 328\u001b[0m         \u001b[39mself\u001b[39;49m\u001b[39m.\u001b[39;49m_run(\u001b[39m*\u001b[39;49mtool_args, run_manager\u001b[39m=\u001b[39;49mrun_manager, \u001b[39m*\u001b[39;49m\u001b[39m*\u001b[39;49mtool_kwargs)\n\u001b[1;32m    329\u001b[0m         \u001b[39mif\u001b[39;00m new_arg_supported\n\u001b[1;32m    330\u001b[0m         \u001b[39melse\u001b[39;00m \u001b[39mself\u001b[39m\u001b[39m.\u001b[39m_run(\u001b[39m*\u001b[39mtool_args, \u001b[39m*\u001b[39m\u001b[39m*\u001b[39mtool_kwargs)\n\u001b[1;32m    331\u001b[0m     )\n\u001b[1;32m    332\u001b[0m \u001b[39mexcept\u001b[39;00m ToolException \u001b[39mas\u001b[39;00m e:\n\u001b[1;32m    333\u001b[0m     \u001b[39mif\u001b[39;00m \u001b[39mnot\u001b[39;00m \u001b[39mself\u001b[39m\u001b[39m.\u001b[39mhandle_tool_error:\n",
      "File \u001b[0;32m~/Desktop/Projects/bq-sql-agent/.venv/lib/python3.9/site-packages/langchain/tools/sql_database/tool.py:68\u001b[0m, in \u001b[0;36mInfoSQLDatabaseTool._run\u001b[0;34m(self, table_names, run_manager)\u001b[0m\n\u001b[1;32m     62\u001b[0m \u001b[39mdef\u001b[39;00m \u001b[39m_run\u001b[39m(\n\u001b[1;32m     63\u001b[0m     \u001b[39mself\u001b[39m,\n\u001b[1;32m     64\u001b[0m     table_names: \u001b[39mstr\u001b[39m,\n\u001b[1;32m     65\u001b[0m     run_manager: Optional[CallbackManagerForToolRun] \u001b[39m=\u001b[39m \u001b[39mNone\u001b[39;00m,\n\u001b[1;32m     66\u001b[0m ) \u001b[39m-\u001b[39m\u001b[39m>\u001b[39m \u001b[39mstr\u001b[39m:\n\u001b[1;32m     67\u001b[0m \u001b[39m    \u001b[39m\u001b[39m\"\"\"Get the schema for tables in a comma-separated list.\"\"\"\u001b[39;00m\n\u001b[0;32m---> 68\u001b[0m     \u001b[39mreturn\u001b[39;00m \u001b[39mself\u001b[39;49m\u001b[39m.\u001b[39;49mdb\u001b[39m.\u001b[39;49mget_table_info_no_throw(table_names\u001b[39m.\u001b[39;49msplit(\u001b[39m\"\u001b[39;49m\u001b[39m, \u001b[39;49m\u001b[39m\"\u001b[39;49m))\n",
      "File \u001b[0;32m~/Desktop/Projects/bq-sql-agent/.venv/lib/python3.9/site-packages/langchain/utilities/sql_database.py:433\u001b[0m, in \u001b[0;36mSQLDatabase.get_table_info_no_throw\u001b[0;34m(self, table_names)\u001b[0m\n\u001b[1;32m    423\u001b[0m \u001b[39m\u001b[39m\u001b[39m\"\"\"Get information about specified tables.\u001b[39;00m\n\u001b[1;32m    424\u001b[0m \n\u001b[1;32m    425\u001b[0m \u001b[39mFollows best practices as specified in: Rajkumar et al, 2022\u001b[39;00m\n\u001b[0;32m   (...)\u001b[0m\n\u001b[1;32m    430\u001b[0m \u001b[39mdemonstrated in the paper.\u001b[39;00m\n\u001b[1;32m    431\u001b[0m \u001b[39m\"\"\"\u001b[39;00m\n\u001b[1;32m    432\u001b[0m \u001b[39mtry\u001b[39;00m:\n\u001b[0;32m--> 433\u001b[0m     \u001b[39mreturn\u001b[39;00m \u001b[39mself\u001b[39;49m\u001b[39m.\u001b[39;49mget_table_info(table_names)\n\u001b[1;32m    434\u001b[0m \u001b[39mexcept\u001b[39;00m \u001b[39mValueError\u001b[39;00m \u001b[39mas\u001b[39;00m e:\n\u001b[1;32m    435\u001b[0m \u001b[39m    \u001b[39m\u001b[39m\"\"\"Format the error message\"\"\"\u001b[39;00m\n",
      "File \u001b[0;32m~/Desktop/Projects/bq-sql-agent/.venv/lib/python3.9/site-packages/langchain/utilities/sql_database.py:328\u001b[0m, in \u001b[0;36mSQLDatabase.get_table_info\u001b[0;34m(self, table_names)\u001b[0m\n\u001b[1;32m    326\u001b[0m     table_info \u001b[39m+\u001b[39m\u001b[39m=\u001b[39m \u001b[39mf\u001b[39m\u001b[39m\"\u001b[39m\u001b[39m\\n\u001b[39;00m\u001b[39m{\u001b[39;00m\u001b[39mself\u001b[39m\u001b[39m.\u001b[39m_get_table_indexes(table)\u001b[39m}\u001b[39;00m\u001b[39m\\n\u001b[39;00m\u001b[39m\"\u001b[39m\n\u001b[1;32m    327\u001b[0m \u001b[39mif\u001b[39;00m \u001b[39mself\u001b[39m\u001b[39m.\u001b[39m_sample_rows_in_table_info:\n\u001b[0;32m--> 328\u001b[0m     table_info \u001b[39m+\u001b[39m\u001b[39m=\u001b[39m \u001b[39mf\u001b[39m\u001b[39m\"\u001b[39m\u001b[39m\\n\u001b[39;00m\u001b[39m{\u001b[39;00m\u001b[39mself\u001b[39m\u001b[39m.\u001b[39m_get_sample_rows(table)\u001b[39m}\u001b[39;00m\u001b[39m\\n\u001b[39;00m\u001b[39m\"\u001b[39m\n\u001b[1;32m    329\u001b[0m \u001b[39mif\u001b[39;00m has_extra_info:\n\u001b[1;32m    330\u001b[0m     table_info \u001b[39m+\u001b[39m\u001b[39m=\u001b[39m \u001b[39m\"\u001b[39m\u001b[39m*/\u001b[39m\u001b[39m\"\u001b[39m\n",
      "File \u001b[0;32m~/Desktop/Projects/bq-sql-agent/.venv/lib/python3.9/site-packages/langchain/utilities/sql_database.py:353\u001b[0m, in \u001b[0;36mSQLDatabase._get_sample_rows\u001b[0;34m(self, table)\u001b[0m\n\u001b[1;32m    351\u001b[0m     sample_rows_result \u001b[39m=\u001b[39m connection\u001b[39m.\u001b[39mexecute(command)  \u001b[39m# type: ignore\u001b[39;00m\n\u001b[1;32m    352\u001b[0m     \u001b[39m# shorten values in the sample rows\u001b[39;00m\n\u001b[0;32m--> 353\u001b[0m     sample_rows \u001b[39m=\u001b[39m \u001b[39mlist\u001b[39;49m(\n\u001b[1;32m    354\u001b[0m         \u001b[39mmap\u001b[39;49m(\u001b[39mlambda\u001b[39;49;00m ls: [\u001b[39mstr\u001b[39;49m(i)[:\u001b[39m100\u001b[39;49m] \u001b[39mfor\u001b[39;49;00m i \u001b[39min\u001b[39;49;00m ls], sample_rows_result)\n\u001b[1;32m    355\u001b[0m     )\n\u001b[1;32m    357\u001b[0m \u001b[39m# save the sample rows in string format\u001b[39;00m\n\u001b[1;32m    358\u001b[0m sample_rows_str \u001b[39m=\u001b[39m \u001b[39m\"\u001b[39m\u001b[39m\\n\u001b[39;00m\u001b[39m\"\u001b[39m\u001b[39m.\u001b[39mjoin([\u001b[39m\"\u001b[39m\u001b[39m\\t\u001b[39;00m\u001b[39m\"\u001b[39m\u001b[39m.\u001b[39mjoin(row) \u001b[39mfor\u001b[39;00m row \u001b[39min\u001b[39;00m sample_rows])\n",
      "File \u001b[0;32m~/Desktop/Projects/bq-sql-agent/.venv/lib/python3.9/site-packages/sqlalchemy/engine/result.py:382\u001b[0m, in \u001b[0;36mResultInternal._iterator_getter.<locals>.iterrows\u001b[0;34m(self)\u001b[0m\n\u001b[1;32m    381\u001b[0m \u001b[39mdef\u001b[39;00m \u001b[39miterrows\u001b[39m(\u001b[39mself\u001b[39m):\n\u001b[0;32m--> 382\u001b[0m     \u001b[39mfor\u001b[39;00m row \u001b[39min\u001b[39;00m \u001b[39mself\u001b[39m\u001b[39m.\u001b[39m_fetchiter_impl():\n\u001b[1;32m    383\u001b[0m         row \u001b[39m=\u001b[39m make_row(row) \u001b[39mif\u001b[39;00m make_row \u001b[39melse\u001b[39;00m row\n\u001b[1;32m    384\u001b[0m         \u001b[39mif\u001b[39;00m post_creational_filter:\n",
      "File \u001b[0;32m~/Desktop/Projects/bq-sql-agent/.venv/lib/python3.9/site-packages/sqlalchemy/engine/cursor.py:1795\u001b[0m, in \u001b[0;36mCursorResult._fetchiter_impl\u001b[0;34m(self)\u001b[0m\n\u001b[1;32m   1792\u001b[0m fetchone \u001b[39m=\u001b[39m \u001b[39mself\u001b[39m\u001b[39m.\u001b[39mcursor_strategy\u001b[39m.\u001b[39mfetchone\n\u001b[1;32m   1794\u001b[0m \u001b[39mwhile\u001b[39;00m \u001b[39mTrue\u001b[39;00m:\n\u001b[0;32m-> 1795\u001b[0m     row \u001b[39m=\u001b[39m fetchone(\u001b[39mself\u001b[39;49m, \u001b[39mself\u001b[39;49m\u001b[39m.\u001b[39;49mcursor)\n\u001b[1;32m   1796\u001b[0m     \u001b[39mif\u001b[39;00m row \u001b[39mis\u001b[39;00m \u001b[39mNone\u001b[39;00m:\n\u001b[1;32m   1797\u001b[0m         \u001b[39mbreak\u001b[39;00m\n",
      "File \u001b[0;32m~/Desktop/Projects/bq-sql-agent/.venv/lib/python3.9/site-packages/sqlalchemy/engine/cursor.py:960\u001b[0m, in \u001b[0;36mCursorFetchStrategy.fetchone\u001b[0;34m(self, result, dbapi_cursor, hard_close)\u001b[0m\n\u001b[1;32m    958\u001b[0m     \u001b[39mreturn\u001b[39;00m row\n\u001b[1;32m    959\u001b[0m \u001b[39mexcept\u001b[39;00m \u001b[39mBaseException\u001b[39;00m \u001b[39mas\u001b[39;00m e:\n\u001b[0;32m--> 960\u001b[0m     \u001b[39mself\u001b[39;49m\u001b[39m.\u001b[39;49mhandle_exception(result, dbapi_cursor, e)\n",
      "File \u001b[0;32m~/Desktop/Projects/bq-sql-agent/.venv/lib/python3.9/site-packages/sqlalchemy/engine/cursor.py:941\u001b[0m, in \u001b[0;36mCursorFetchStrategy.handle_exception\u001b[0;34m(self, result, dbapi_cursor, err)\u001b[0m\n\u001b[1;32m    940\u001b[0m \u001b[39mdef\u001b[39;00m \u001b[39mhandle_exception\u001b[39m(\u001b[39mself\u001b[39m, result, dbapi_cursor, err):\n\u001b[0;32m--> 941\u001b[0m     result\u001b[39m.\u001b[39;49mconnection\u001b[39m.\u001b[39;49m_handle_dbapi_exception(\n\u001b[1;32m    942\u001b[0m         err, \u001b[39mNone\u001b[39;49;00m, \u001b[39mNone\u001b[39;49;00m, dbapi_cursor, result\u001b[39m.\u001b[39;49mcontext\n\u001b[1;32m    943\u001b[0m     )\n",
      "File \u001b[0;32m~/Desktop/Projects/bq-sql-agent/.venv/lib/python3.9/site-packages/sqlalchemy/engine/base.py:2047\u001b[0m, in \u001b[0;36mConnection._handle_dbapi_exception\u001b[0;34m(self, e, statement, parameters, cursor, context)\u001b[0m\n\u001b[1;32m   2043\u001b[0m         util\u001b[39m.\u001b[39mraise_(\n\u001b[1;32m   2044\u001b[0m             sqlalchemy_exception, with_traceback\u001b[39m=\u001b[39mexc_info[\u001b[39m2\u001b[39m], from_\u001b[39m=\u001b[39me\n\u001b[1;32m   2045\u001b[0m         )\n\u001b[1;32m   2046\u001b[0m     \u001b[39melse\u001b[39;00m:\n\u001b[0;32m-> 2047\u001b[0m         util\u001b[39m.\u001b[39;49mraise_(exc_info[\u001b[39m1\u001b[39;49m], with_traceback\u001b[39m=\u001b[39;49mexc_info[\u001b[39m2\u001b[39;49m])\n\u001b[1;32m   2049\u001b[0m \u001b[39mfinally\u001b[39;00m:\n\u001b[1;32m   2050\u001b[0m     \u001b[39mdel\u001b[39;00m \u001b[39mself\u001b[39m\u001b[39m.\u001b[39m_reentrant_error\n",
      "File \u001b[0;32m~/Desktop/Projects/bq-sql-agent/.venv/lib/python3.9/site-packages/sqlalchemy/util/compat.py:208\u001b[0m, in \u001b[0;36mraise_\u001b[0;34m(***failed resolving arguments***)\u001b[0m\n\u001b[1;32m    205\u001b[0m     exception\u001b[39m.\u001b[39m__cause__ \u001b[39m=\u001b[39m replace_context\n\u001b[1;32m    207\u001b[0m \u001b[39mtry\u001b[39;00m:\n\u001b[0;32m--> 208\u001b[0m     \u001b[39mraise\u001b[39;00m exception\n\u001b[1;32m    209\u001b[0m \u001b[39mfinally\u001b[39;00m:\n\u001b[1;32m    210\u001b[0m     \u001b[39m# credit to\u001b[39;00m\n\u001b[1;32m    211\u001b[0m     \u001b[39m# https://cosmicpercolator.com/2016/01/13/exception-leaks-in-python-2-and-3/\u001b[39;00m\n\u001b[1;32m    212\u001b[0m     \u001b[39m# as the __traceback__ object creates a cycle\u001b[39;00m\n\u001b[1;32m    213\u001b[0m     \u001b[39mdel\u001b[39;00m exception, replace_context, from_, with_traceback\n",
      "File \u001b[0;32m~/Desktop/Projects/bq-sql-agent/.venv/lib/python3.9/site-packages/sqlalchemy/engine/cursor.py:955\u001b[0m, in \u001b[0;36mCursorFetchStrategy.fetchone\u001b[0;34m(self, result, dbapi_cursor, hard_close)\u001b[0m\n\u001b[1;32m    953\u001b[0m \u001b[39mdef\u001b[39;00m \u001b[39mfetchone\u001b[39m(\u001b[39mself\u001b[39m, result, dbapi_cursor, hard_close\u001b[39m=\u001b[39m\u001b[39mFalse\u001b[39;00m):\n\u001b[1;32m    954\u001b[0m     \u001b[39mtry\u001b[39;00m:\n\u001b[0;32m--> 955\u001b[0m         row \u001b[39m=\u001b[39m dbapi_cursor\u001b[39m.\u001b[39;49mfetchone()\n\u001b[1;32m    956\u001b[0m         \u001b[39mif\u001b[39;00m row \u001b[39mis\u001b[39;00m \u001b[39mNone\u001b[39;00m:\n\u001b[1;32m    957\u001b[0m             result\u001b[39m.\u001b[39m_soft_close(hard\u001b[39m=\u001b[39mhard_close)\n",
      "File \u001b[0;32m~/Desktop/Projects/bq-sql-agent/.venv/lib/python3.9/site-packages/google/cloud/bigquery/dbapi/_helpers.py:494\u001b[0m, in \u001b[0;36mraise_on_closed.<locals>._raise_on_closed.<locals>.with_closed_check\u001b[0;34m(self, *args, **kwargs)\u001b[0m\n\u001b[1;32m    492\u001b[0m \u001b[39mif\u001b[39;00m \u001b[39mgetattr\u001b[39m(\u001b[39mself\u001b[39m, closed_attr_name):\n\u001b[1;32m    493\u001b[0m     \u001b[39mraise\u001b[39;00m exc_class(exc_msg)\n\u001b[0;32m--> 494\u001b[0m \u001b[39mreturn\u001b[39;00m method(\u001b[39mself\u001b[39;49m, \u001b[39m*\u001b[39;49margs, \u001b[39m*\u001b[39;49m\u001b[39m*\u001b[39;49mkwargs)\n",
      "File \u001b[0;32m~/Desktop/Projects/bq-sql-agent/.venv/lib/python3.9/site-packages/google/cloud/bigquery/dbapi/cursor.py:335\u001b[0m, in \u001b[0;36mCursor.fetchone\u001b[0;34m(self)\u001b[0m\n\u001b[1;32m    321\u001b[0m \u001b[39mdef\u001b[39;00m \u001b[39mfetchone\u001b[39m(\u001b[39mself\u001b[39m):\n\u001b[1;32m    322\u001b[0m \u001b[39m    \u001b[39m\u001b[39m\"\"\"Fetch a single row from the results of the last ``execute*()`` call.\u001b[39;00m\n\u001b[1;32m    323\u001b[0m \n\u001b[1;32m    324\u001b[0m \u001b[39m    .. note::\u001b[39;00m\n\u001b[0;32m   (...)\u001b[0m\n\u001b[1;32m    333\u001b[0m \u001b[39m        google.cloud.bigquery.dbapi.InterfaceError: if called before ``execute()``.\u001b[39;00m\n\u001b[1;32m    334\u001b[0m \u001b[39m    \"\"\"\u001b[39;00m\n\u001b[0;32m--> 335\u001b[0m     \u001b[39mself\u001b[39;49m\u001b[39m.\u001b[39;49m_try_fetch()\n\u001b[1;32m    336\u001b[0m     \u001b[39mtry\u001b[39;00m:\n\u001b[1;32m    337\u001b[0m         \u001b[39mreturn\u001b[39;00m \u001b[39mnext\u001b[39m(\u001b[39mself\u001b[39m\u001b[39m.\u001b[39m_query_data)\n",
      "File \u001b[0;32m~/Desktop/Projects/bq-sql-agent/.venv/lib/python3.9/site-packages/google/cloud/bigquery/dbapi/cursor.py:266\u001b[0m, in \u001b[0;36mCursor._try_fetch\u001b[0;34m(self, size)\u001b[0m\n\u001b[1;32m    263\u001b[0m bqstorage_client \u001b[39m=\u001b[39m \u001b[39mself\u001b[39m\u001b[39m.\u001b[39mconnection\u001b[39m.\u001b[39m_bqstorage_client\n\u001b[1;32m    265\u001b[0m \u001b[39mif\u001b[39;00m bqstorage_client \u001b[39mis\u001b[39;00m \u001b[39mnot\u001b[39;00m \u001b[39mNone\u001b[39;00m:\n\u001b[0;32m--> 266\u001b[0m     rows_iterable \u001b[39m=\u001b[39m \u001b[39mself\u001b[39;49m\u001b[39m.\u001b[39;49m_bqstorage_fetch(bqstorage_client)\n\u001b[1;32m    267\u001b[0m     \u001b[39mself\u001b[39m\u001b[39m.\u001b[39m_query_data \u001b[39m=\u001b[39m _helpers\u001b[39m.\u001b[39mto_bq_table_rows(rows_iterable)\n\u001b[1;32m    268\u001b[0m     \u001b[39mreturn\u001b[39;00m\n",
      "File \u001b[0;32m~/Desktop/Projects/bq-sql-agent/.venv/lib/python3.9/site-packages/google/cloud/bigquery/dbapi/cursor.py:318\u001b[0m, in \u001b[0;36mCursor._bqstorage_fetch\u001b[0;34m(self, bqstorage_client)\u001b[0m\n\u001b[1;32m    315\u001b[0m stream_name \u001b[39m=\u001b[39m read_session\u001b[39m.\u001b[39mstreams[\u001b[39m0\u001b[39m]\u001b[39m.\u001b[39mname\n\u001b[1;32m    316\u001b[0m read_rows_stream \u001b[39m=\u001b[39m bqstorage_client\u001b[39m.\u001b[39mread_rows(stream_name)\n\u001b[0;32m--> 318\u001b[0m rows_iterable \u001b[39m=\u001b[39m read_rows_stream\u001b[39m.\u001b[39;49mrows(read_session)\n\u001b[1;32m    319\u001b[0m \u001b[39mreturn\u001b[39;00m rows_iterable\n",
      "File \u001b[0;32m~/Desktop/Projects/bq-sql-agent/.venv/lib/python3.9/site-packages/google/cloud/bigquery_storage_v1/reader.py:241\u001b[0m, in \u001b[0;36mReadRowsStream.rows\u001b[0;34m(self, read_session)\u001b[0m\n\u001b[1;32m    216\u001b[0m \u001b[39mdef\u001b[39;00m \u001b[39mrows\u001b[39m(\u001b[39mself\u001b[39m, read_session\u001b[39m=\u001b[39m\u001b[39mNone\u001b[39;00m):\n\u001b[1;32m    217\u001b[0m \u001b[39m    \u001b[39m\u001b[39m\"\"\"Iterate over all rows in the stream.\u001b[39;00m\n\u001b[1;32m    218\u001b[0m \n\u001b[1;32m    219\u001b[0m \u001b[39m    This method requires the fastavro library in order to parse row\u001b[39;00m\n\u001b[0;32m   (...)\u001b[0m\n\u001b[1;32m    239\u001b[0m \u001b[39m            A sequence of rows, represented as dictionaries.\u001b[39;00m\n\u001b[1;32m    240\u001b[0m \u001b[39m    \"\"\"\u001b[39;00m\n\u001b[0;32m--> 241\u001b[0m     \u001b[39mreturn\u001b[39;00m ReadRowsIterable(\u001b[39mself\u001b[39;49m, read_session\u001b[39m=\u001b[39;49mread_session)\n",
      "File \u001b[0;32m~/Desktop/Projects/bq-sql-agent/.venv/lib/python3.9/site-packages/google/cloud/bigquery_storage_v1/reader.py:324\u001b[0m, in \u001b[0;36mReadRowsIterable.__init__\u001b[0;34m(self, reader, read_session)\u001b[0m\n\u001b[1;32m    322\u001b[0m \u001b[39mself\u001b[39m\u001b[39m.\u001b[39m_reader \u001b[39m=\u001b[39m reader\n\u001b[1;32m    323\u001b[0m \u001b[39mif\u001b[39;00m read_session \u001b[39mis\u001b[39;00m \u001b[39mnot\u001b[39;00m \u001b[39mNone\u001b[39;00m:\n\u001b[0;32m--> 324\u001b[0m     \u001b[39mself\u001b[39m\u001b[39m.\u001b[39m_stream_parser \u001b[39m=\u001b[39m _StreamParser\u001b[39m.\u001b[39;49mfrom_read_session(read_session)\n\u001b[1;32m    325\u001b[0m \u001b[39melse\u001b[39;00m:\n\u001b[1;32m    326\u001b[0m     \u001b[39mself\u001b[39m\u001b[39m.\u001b[39m_stream_parser \u001b[39m=\u001b[39m \u001b[39mNone\u001b[39;00m\n",
      "File \u001b[0;32m~/Desktop/Projects/bq-sql-agent/.venv/lib/python3.9/site-packages/google/cloud/bigquery_storage_v1/reader.py:581\u001b[0m, in \u001b[0;36m_StreamParser.from_read_session\u001b[0;34m(read_session)\u001b[0m\n\u001b[1;32m    579\u001b[0m     \u001b[39mreturn\u001b[39;00m _AvroStreamParser(read_session)\n\u001b[1;32m    580\u001b[0m \u001b[39melif\u001b[39;00m schema_type \u001b[39m==\u001b[39m \u001b[39m\"\u001b[39m\u001b[39marrow_schema\u001b[39m\u001b[39m\"\u001b[39m:\n\u001b[0;32m--> 581\u001b[0m     \u001b[39mreturn\u001b[39;00m _ArrowStreamParser(read_session)\n\u001b[1;32m    582\u001b[0m \u001b[39melse\u001b[39;00m:\n\u001b[1;32m    583\u001b[0m     \u001b[39mraise\u001b[39;00m \u001b[39mTypeError\u001b[39;00m(\n\u001b[1;32m    584\u001b[0m         \u001b[39m\"\u001b[39m\u001b[39mUnsupported schema type in read_session: \u001b[39m\u001b[39m{0}\u001b[39;00m\u001b[39m\"\u001b[39m\u001b[39m.\u001b[39mformat(schema_type)\n\u001b[1;32m    585\u001b[0m     )\n",
      "File \u001b[0;32m~/Desktop/Projects/bq-sql-agent/.venv/lib/python3.9/site-packages/google/cloud/bigquery_storage_v1/reader.py:733\u001b[0m, in \u001b[0;36m_ArrowStreamParser.__init__\u001b[0;34m(self, message)\u001b[0m\n\u001b[1;32m    721\u001b[0m \u001b[39m\u001b[39m\u001b[39m\"\"\"Construct an _ArrowStreamParser.\u001b[39;00m\n\u001b[1;32m    722\u001b[0m \n\u001b[1;32m    723\u001b[0m \u001b[39mArgs:\u001b[39;00m\n\u001b[0;32m   (...)\u001b[0m\n\u001b[1;32m    730\u001b[0m \u001b[39m        can be used to determine how to deserialize rows.\u001b[39;00m\n\u001b[1;32m    731\u001b[0m \u001b[39m\"\"\"\u001b[39;00m\n\u001b[1;32m    732\u001b[0m \u001b[39mif\u001b[39;00m pyarrow \u001b[39mis\u001b[39;00m \u001b[39mNone\u001b[39;00m:\n\u001b[0;32m--> 733\u001b[0m     \u001b[39mraise\u001b[39;00m \u001b[39mImportError\u001b[39;00m(_PYARROW_REQUIRED)\n\u001b[1;32m    735\u001b[0m \u001b[39mself\u001b[39m\u001b[39m.\u001b[39m_first_message \u001b[39m=\u001b[39m message\n\u001b[1;32m    736\u001b[0m \u001b[39mself\u001b[39m\u001b[39m.\u001b[39m_schema \u001b[39m=\u001b[39m \u001b[39mNone\u001b[39;00m\n",
      "\u001b[0;31mImportError\u001b[0m: pyarrow is required to parse ReadRowResponse messages with Arrow bytes."
     ]
    }
   ],
   "source": [
    "agent_executor.run(\"Find the vailability of rooms in Miami. Table names are `hotels`, `rooms` and `reservations`.\")"
   ]
  },
  {
   "cell_type": "code",
   "execution_count": null,
   "metadata": {},
   "outputs": [],
   "source": []
  }
 ],
 "metadata": {
  "kernelspec": {
   "display_name": ".venv",
   "language": "python",
   "name": "python3"
  },
  "language_info": {
   "codemirror_mode": {
    "name": "ipython",
    "version": 3
   },
   "file_extension": ".py",
   "mimetype": "text/x-python",
   "name": "python",
   "nbconvert_exporter": "python",
   "pygments_lexer": "ipython3",
   "version": "3.9.6"
  },
  "orig_nbformat": 4
 },
 "nbformat": 4,
 "nbformat_minor": 2
}
