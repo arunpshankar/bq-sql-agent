{
 "cells": [
  {
   "cell_type": "markdown",
   "id": "6a81cd68-f33e-4084-a7d4-38d1e80dd291",
   "metadata": {},
   "source": [
    "## Create Tables "
   ]
  },
  {
   "cell_type": "markdown",
   "id": "7b781909-0b11-46b0-bb8f-584b3662a8f0",
   "metadata": {},
   "source": [
    "#### Imports "
   ]
  },
  {
   "cell_type": "code",
   "execution_count": null,
   "id": "67e03520-c791-400a-ac4f-050813cba0aa",
   "metadata": {},
   "outputs": [],
   "source": [
    "from google.cloud.exceptions import NotFound\n",
    "from google.cloud import bigquery\n",
    "import datetime\n",
    "import logging"
   ]
  },
  {
   "cell_type": "markdown",
   "id": "282eed57-c0e3-4991-ba04-750858a3524c",
   "metadata": {},
   "source": [
    "##### Setup logging "
   ]
  },
  {
   "cell_type": "code",
   "execution_count": null,
   "id": "450c853b-0377-42ca-a2e8-48c09a7bc2f3",
   "metadata": {},
   "outputs": [],
   "source": [
    "logger = logging.getLogger(__name__)\n",
    "logger.setLevel(logging.INFO)\n",
    "logger.addHandler(logging.StreamHandler())"
   ]
  },
  {
   "cell_type": "markdown",
   "id": "db589db1-f999-434f-8c47-c23ac45cfdfb",
   "metadata": {},
   "source": [
    "#### Essentials "
   ]
  },
  {
   "cell_type": "code",
   "execution_count": null,
   "id": "476fbb1c-58d6-46b3-8359-cbf498b76d9c",
   "metadata": {},
   "outputs": [],
   "source": [
    "%cd /home/jupyter/bq-sql-agent"
   ]
  },
  {
   "cell_type": "code",
   "execution_count": null,
   "id": "8adf30c7-e5c7-4b0b-bfaa-388a3413f6d0",
   "metadata": {},
   "outputs": [],
   "source": [
    "%pwd"
   ]
  },
  {
   "cell_type": "code",
   "execution_count": null,
   "id": "1f1203ba-b178-4494-9347-cefdc4482f6e",
   "metadata": {},
   "outputs": [],
   "source": [
    "client = bigquery.Client()"
   ]
  },
  {
   "cell_type": "markdown",
   "id": "1ad8dfe2-06fb-4a97-8af5-34c170befee1",
   "metadata": {},
   "source": [
    "#### Create dataset"
   ]
  },
  {
   "cell_type": "code",
   "execution_count": null,
   "id": "e66ee87a-3c46-4bb7-bee3-5e1c67233df5",
   "metadata": {},
   "outputs": [],
   "source": [
    "dataset_id = f\"{client.project}.hotel_reservations\"\n",
    "logger.info(dataset_id)"
   ]
  },
  {
   "cell_type": "code",
   "execution_count": null,
   "id": "55e69e3a-4b85-4397-9f68-bb09793677e1",
   "metadata": {},
   "outputs": [],
   "source": [
    "try:\n",
    "    dataset = client.get_dataset(dataset_id)\n",
    "    logger.info(f\"Dataset {dataset_id} already exists!\")\n",
    "except NotFound:\n",
    "    dataset = bigquery.Dataset(dataset_id)\n",
    "    dataset.location = \"US\"\n",
    "    dataset = client.create_dataset(dataset)\n",
    "    logger.info(f\"Dataset {dataset_id} created.\")"
   ]
  },
  {
   "cell_type": "markdown",
   "id": "43078be3-dd4b-44af-9791-92cc54a4e1a5",
   "metadata": {},
   "source": [
    "#### Create tables "
   ]
  },
  {
   "cell_type": "markdown",
   "id": "34b287eb-1c32-41b4-8811-c9e205c9a08e",
   "metadata": {},
   "source": [
    "##### Create `hotels` table"
   ]
  },
  {
   "cell_type": "code",
   "execution_count": null,
   "id": "8024f1a2-9b3a-4c74-afd2-28e87a30755d",
   "metadata": {},
   "outputs": [],
   "source": [
    "table_id = f\"{dataset_id}.hotels\"\n",
    "logger.info(table_id)"
   ]
  },
  {
   "cell_type": "code",
   "execution_count": null,
   "id": "44b0aaf4-1a9b-44b4-87ce-3c564455884d",
   "metadata": {},
   "outputs": [],
   "source": [
    "hotels_schema = [\n",
    "    bigquery.SchemaField(\"hotel_id\", \"INT64\", mode=\"REQUIRED\"),\n",
    "    bigquery.SchemaField(\"hotel_name\", \"STRING\", mode=\"REQUIRED\"),\n",
    "    bigquery.SchemaField(\"location\", \"STRING\", mode=\"REQUIRED\"),\n",
    "    bigquery.SchemaField(\"rating\", \"FLOAT64\", mode=\"REQUIRED\"),\n",
    "]"
   ]
  },
  {
   "cell_type": "code",
   "execution_count": null,
   "id": "18bda9d4-c124-4050-a029-679532399324",
   "metadata": {},
   "outputs": [],
   "source": [
    "try:\n",
    "    hotels_table = client.get_table(table_id)\n",
    "    logger.info(f\"Table {table_id} already exists!\")\n",
    "except NotFound:\n",
    "    hotels_table = bigquery.Table(table_id, schema=hotels_schema)\n",
    "    hotels_table = client.create_table(hotels_table)  \n",
    "    logger.info(f\"Table {table_id} created.\")"
   ]
  },
  {
   "cell_type": "code",
   "execution_count": null,
   "id": "5e12cbce-0aa2-4641-a5e2-bd0320b756dc",
   "metadata": {},
   "outputs": [],
   "source": [
    "hotels_table.__dict__"
   ]
  },
  {
   "cell_type": "markdown",
   "id": "d205f753-dd42-48fd-aaab-4469f71e1d1f",
   "metadata": {},
   "source": [
    "##### Create `rooms` table"
   ]
  },
  {
   "cell_type": "code",
   "execution_count": null,
   "id": "c90a23ef-d9f3-45d5-abf4-2b6d2302abb2",
   "metadata": {},
   "outputs": [],
   "source": [
    "table_id = f\"{dataset_id}.rooms\"\n",
    "logger.info(table_id)"
   ]
  },
  {
   "cell_type": "code",
   "execution_count": null,
   "id": "ea4725df-6de9-4ff7-9417-a62299cc734d",
   "metadata": {},
   "outputs": [],
   "source": [
    "rooms_schema = [\n",
    "    bigquery.SchemaField(\"room_id\", \"INT64\", mode=\"REQUIRED\"),\n",
    "    bigquery.SchemaField(\"hotel_id\", \"INT64\", mode=\"REQUIRED\"),\n",
    "    bigquery.SchemaField(\"room_type\", \"STRING\", mode=\"REQUIRED\"),\n",
    "    bigquery.SchemaField(\"price_per_night\", \"FLOAT64\", mode=\"REQUIRED\"),\n",
    "    bigquery.SchemaField(\"availability\", \"INT64\", mode=\"REQUIRED\"),\n",
    "]"
   ]
  },
  {
   "cell_type": "code",
   "execution_count": null,
   "id": "f3ee9200-90ac-4c97-9434-33cbcea5e572",
   "metadata": {},
   "outputs": [],
   "source": [
    "try:\n",
    "    rooms_table = client.get_table(table_id)\n",
    "    logger.info(f\"Table {table_id} already exists!\")\n",
    "except NotFound:\n",
    "    rooms_table = bigquery.Table(table_id, schema=rooms_schema)\n",
    "    rooms_table = client.create_table(rooms_table)  \n",
    "    logger.info(f\"Table {table_id} created.\")"
   ]
  },
  {
   "cell_type": "code",
   "execution_count": null,
   "id": "80dd9f35-8372-4a28-9bd3-247ca4d0baed",
   "metadata": {},
   "outputs": [],
   "source": [
    "rooms_table.__dict__"
   ]
  },
  {
   "cell_type": "markdown",
   "id": "e4cab85d-42c2-4703-8f16-a1c406531d8f",
   "metadata": {},
   "source": [
    "##### Create `reservations` table"
   ]
  },
  {
   "cell_type": "code",
   "execution_count": null,
   "id": "7417c955-e135-44f5-8375-a7034e8cd3a9",
   "metadata": {},
   "outputs": [],
   "source": [
    "table_id = f\"{dataset_id}.reservations\"\n",
    "logger.info(table_id)"
   ]
  },
  {
   "cell_type": "code",
   "execution_count": null,
   "id": "360ce78e-25f3-47b5-819a-86369a0a70f9",
   "metadata": {},
   "outputs": [],
   "source": [
    "reservations_schema = [\n",
    "    bigquery.SchemaField(\"reservation_id\", \"INT64\", mode=\"REQUIRED\"),\n",
    "    bigquery.SchemaField(\"user_id\", \"INT64\", mode=\"REQUIRED\"),\n",
    "    bigquery.SchemaField(\"room_id\", \"INT64\", mode=\"REQUIRED\"),\n",
    "    bigquery.SchemaField(\"start_date\", \"DATE\", mode=\"REQUIRED\"),\n",
    "    bigquery.SchemaField(\"end_date\", \"DATE\", mode=\"REQUIRED\"),\n",
    "]"
   ]
  },
  {
   "cell_type": "code",
   "execution_count": null,
   "id": "9ab44831-c356-4b06-83f7-5ce7f0d4978c",
   "metadata": {},
   "outputs": [],
   "source": [
    "try:\n",
    "    reservations_table = client.get_table(table_id)\n",
    "    logger.info(f\"Table {table_id} already exists!\")\n",
    "except NotFound:\n",
    "    reservations_table = bigquery.Table(table_id, schema=reservations_schema)\n",
    "    reservations_table = client.create_table(reservations_table)  \n",
    "    logger.info(f\"Table {table_id} created.\")"
   ]
  },
  {
   "cell_type": "code",
   "execution_count": null,
   "id": "8dc0c8ff-c8fa-42b7-bcf0-da78218650a9",
   "metadata": {},
   "outputs": [],
   "source": [
    "reservations_table.__dict__"
   ]
  },
  {
   "cell_type": "markdown",
   "id": "963f439d-b53f-4d23-9c45-2a659b9ed8e2",
   "metadata": {},
   "source": [
    "#### Populate the tables "
   ]
  },
  {
   "cell_type": "code",
   "execution_count": null,
   "id": "de8c4129-cf3f-49fa-98e3-958c004228a3",
   "metadata": {},
   "outputs": [],
   "source": [
    "hotels_data = [\n",
    "    (1, \"Grand Palace\", \"New York\", 4.5),\n",
    "    (2, \"Beachfront Resort\", \"Miami\", 4.2),\n",
    "    (3, \"Mountain View Inn\", \"Denver\", 4.7),\n",
    "    (4, \"City Lights Hotel\", \"Los Angeles\", 4.3),\n",
    "    (5, \"Lakeside Retreat\", \"Seattle\", 4.6),\n",
    "]"
   ]
  },
  {
   "cell_type": "code",
   "execution_count": null,
   "id": "81ef439b-181a-4432-9573-344bbb8d66f8",
   "metadata": {},
   "outputs": [],
   "source": [
    "client.insert_rows(hotels_table, hotels_data)"
   ]
  },
  {
   "cell_type": "code",
   "execution_count": null,
   "id": "3744240d-9b89-4642-936e-a2be9c821e57",
   "metadata": {},
   "outputs": [],
   "source": [
    "rooms_data = [\n",
    "    # Grand Palace\n",
    "    (1, 1, \"Deluxe\", 150.0, 10),\n",
    "    (2, 1, \"Suite\", 250.0, 5),\n",
    "    # Beachfront Resort\n",
    "    (3, 2, \"Deluxe\", 180.0, 10),\n",
    "    (4, 2, \"Suite\", 280.0, 5),\n",
    "    # Mountain View Inn\n",
    "    (5, 3, \"Deluxe\", 130.0, 10),\n",
    "    (6, 3, \"Suite\", 230.0, 5),\n",
    "    # City Lights Hotel\n",
    "    (7, 4, \"Deluxe\", 170.0, 10),\n",
    "    (8, 4, \"Suite\", 270.0, 5),\n",
    "    # Lakeside Retreat\n",
    "    (9, 5, \"Deluxe\", 140.0, 10),\n",
    "    (10, 5, \"Suite\", 240.0, 5),\n",
    "]"
   ]
  },
  {
   "cell_type": "code",
   "execution_count": null,
   "id": "134714e2-690d-46d0-943a-5b036f77ae56",
   "metadata": {},
   "outputs": [],
   "source": [
    "client.insert_rows(rooms_table, rooms_data)"
   ]
  },
  {
   "cell_type": "code",
   "execution_count": null,
   "id": "71f24209-ce20-4d41-8e26-5998ae984e3c",
   "metadata": {},
   "outputs": [],
   "source": [
    "reservations_data = [\n",
    "    (1, 1, 1, datetime.date(2023, 9, 10), datetime.date(2023, 9, 15)),\n",
    "    (2, 2, 3, datetime.date(2023, 9, 12), datetime.date(2023, 9, 17)),\n",
    "]"
   ]
  },
  {
   "cell_type": "code",
   "execution_count": null,
   "id": "7616d3ec-ceb5-466d-a841-105110af862e",
   "metadata": {},
   "outputs": [],
   "source": [
    "client.insert_rows(reservations_table, reservations_data)"
   ]
  },
  {
   "cell_type": "markdown",
   "id": "791a475e-e596-4774-8739-4c26876b90bb",
   "metadata": {},
   "source": [
    "Tables take a while to get populated and refreshed in BQ - Run the code below after ~ 2 hours to validate if data is populated"
   ]
  },
  {
   "cell_type": "code",
   "execution_count": null,
   "id": "59ed631d-c890-4d70-b52f-0dbf8c0fa0ca",
   "metadata": {},
   "outputs": [],
   "source": [
    "logger.info(hotels_table.num_rows)"
   ]
  },
  {
   "cell_type": "code",
   "execution_count": null,
   "id": "faa9df84-09ba-4a58-ad90-e67da0fb26c1",
   "metadata": {},
   "outputs": [],
   "source": [
    "logger.info(rooms_table.num_rows)"
   ]
  },
  {
   "cell_type": "code",
   "execution_count": null,
   "id": "ff2d58f2-3f0b-47b4-956c-c57b21e3219a",
   "metadata": {},
   "outputs": [],
   "source": [
    "logger.info(reservations_table.num_rows)"
   ]
  }
 ],
 "metadata": {
  "environment": {
   "kernel": "python3",
   "name": "common-cpu.m110",
   "type": "gcloud",
   "uri": "gcr.io/deeplearning-platform-release/base-cpu:m110"
  },
  "kernelspec": {
   "display_name": "Python 3",
   "language": "python",
   "name": "python3"
  },
  "language_info": {
   "codemirror_mode": {
    "name": "ipython",
    "version": 3
   },
   "file_extension": ".py",
   "mimetype": "text/x-python",
   "name": "python",
   "nbconvert_exporter": "python",
   "pygments_lexer": "ipython3",
   "version": "3.10.12"
  }
 },
 "nbformat": 4,
 "nbformat_minor": 5
}
